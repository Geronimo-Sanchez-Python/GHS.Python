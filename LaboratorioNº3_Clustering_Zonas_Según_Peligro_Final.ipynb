{
  "nbformat": 4,
  "nbformat_minor": 0,
  "metadata": {
    "colab": {
      "provenance": [],
      "authorship_tag": "ABX9TyPXqJZv1jxf34UbAyw4yZ6L",
      "include_colab_link": true
    },
    "kernelspec": {
      "name": "python3",
      "display_name": "Python 3"
    },
    "language_info": {
      "name": "python"
    }
  },
  "cells": [
    {
      "cell_type": "markdown",
      "metadata": {
        "id": "view-in-github",
        "colab_type": "text"
      },
      "source": [
        "<a href=\"https://colab.research.google.com/github/Geronimo-Sanchez-Python/GHS.Python/blob/main/LaboratorioN%C2%BA3_Clustering_Zonas_Seg%C3%BAn_Peligro_Final.ipynb\" target=\"_parent\"><img src=\"https://colab.research.google.com/assets/colab-badge.svg\" alt=\"Open In Colab\"/></a>"
      ]
    },
    {
      "cell_type": "markdown",
      "source": [
        "LABORATORIO Nº 3 - Clustering - Clasificador de Zonas de según el peligro - Grupo 7\n",
        "=====================================================================================\n",
        "\n",
        "✅ Montaña Marín\n",
        "\n",
        "✅ Lich Cristian\n",
        "\n",
        "✅ Sánchez Gerónimo\n",
        "\n"
      ],
      "metadata": {
        "id": "dxYwpzLB6tWN"
      }
    },
    {
      "cell_type": "markdown",
      "source": [
        "1.- Carga de las librerías y archivos:\n",
        "======================================\n",
        "\n",
        "✔ Se procede a importar las bibliotecas necesarias, como pandas, numpy, seaborn, matpltlib.pyplot, Kmeans StandardScaler, drive etc. Luego se iran agregando algunas mas de acuerdo al código que se necesite.\n",
        "\n",
        "✔ Se crea la ruta y se lee el conjunto de datos desde el archivo CSV almacenandolo en un DataFrame."
      ],
      "metadata": {
        "id": "QXkUisVkJv-U"
      }
    },
    {
      "cell_type": "code",
      "execution_count": null,
      "metadata": {
        "id": "cyV4ggih6c1L",
        "colab": {
          "base_uri": "https://localhost:8080/"
        },
        "outputId": "e9a57a22-f6d0-4bfa-f4bf-9be7aa37e4b8"
      },
      "outputs": [
        {
          "output_type": "stream",
          "name": "stdout",
          "text": [
            "Mounted at /content/drive\n"
          ]
        }
      ],
      "source": [
        "# Importacion de todas las bibliotecas necesarias\n",
        "import os\n",
        "import pandas as pd\n",
        "import numpy as np\n",
        "import seaborn as sns\n",
        "from sklearn.cluster import KMeans, DBSCAN, MeanShift\n",
        "from sklearn.preprocessing import StandardScaler\n",
        "import matplotlib.pyplot as plt\n",
        "import warnings\n",
        "\n",
        "from google.colab import drive\n",
        "# Cargar el conjunto de datos\n",
        "drive.mount('/content/drive')\n",
        "# Dataset: datos de estados y sus valores de peligrosidad segun Asesinatos, Asaltos y Violaciones mas la Poblacion Urbana\n",
        "ruta_de_acceso = '/content/drive/MyDrive/2º Año/2ºCuatrimestre/Aprendizaje Maquina y Big Data/Laboratorio Nº3 - Clustering - Clasificador de Zonas segun el Peligro/Crimenes.csv'\n",
        "\n",
        "# Dataset: con los datos de Estados y sus abreviaturas - creado en forma adicional\n",
        "ruta_estados=('/content/drive/MyDrive/2º Año/2ºCuatrimestre/Aprendizaje Maquina y Big Data/Laboratorio Nº3 - Clustering - Clasificador de Zonas segun el Peligro/estados.csv')\n",
        "\n",
        "# Visualizar las primeras filas del conjunto de datos\n",
        "estados_abreviados= pd.read_csv(ruta_estados)\n",
        "estados_abreviados\n",
        "\n",
        "data = pd.read_csv(ruta_de_acceso)\n",
        "\n",
        "# Visualizar las primeras filas del conjunto de datos\n",
        "#data.head()"
      ]
    },
    {
      "cell_type": "markdown",
      "source": [
        "2.- Estudio de los datos del Dataset:\n",
        "-------------------------------------\n",
        "\n",
        "✔ Se imprimen los primeros 20 datos."
      ],
      "metadata": {
        "id": "2sT74IUU-LSR"
      }
    },
    {
      "cell_type": "code",
      "source": [
        "# Muestra las primeras filas del conjunto de datos para asegurarte de que se haya cargado correctamente\n",
        "print(data.head(20))"
      ],
      "metadata": {
        "id": "0RK13wYO-Le_",
        "colab": {
          "base_uri": "https://localhost:8080/"
        },
        "outputId": "068c0a18-df65-4591-a57c-cf37cac45700"
      },
      "execution_count": null,
      "outputs": [
        {
          "output_type": "stream",
          "name": "stdout",
          "text": [
            "         Estado  Asesinatos  Asaltos  Poblacion Urbana  Violaciones\n",
            "0       Alabama        13.2      236                58         21.2\n",
            "1        Alaska        10.0      263                48         44.5\n",
            "2       Arizona         8.1      294                80         31.0\n",
            "3      Arkansas         8.8      190                50         19.5\n",
            "4    California         9.0      276                91         40.6\n",
            "5      Colorado         7.9      204                78         38.7\n",
            "6   Connecticut         3.3      110                77         11.1\n",
            "7      Delaware         5.9      238                72         15.8\n",
            "8       Florida        15.4      335                80         31.9\n",
            "9       Georgia        17.4      211                60         25.8\n",
            "10       Hawaii         5.3       46                83         20.2\n",
            "11        Idaho         2.6      120                54         14.2\n",
            "12     Illinois        10.4      249                83         24.0\n",
            "13      Indiana         7.2      113                65         21.0\n",
            "14         Iowa         2.2       56                57         11.3\n",
            "15       Kansas         6.0      115                66         18.0\n",
            "16     Kentucky         9.7      109                52         16.3\n",
            "17    Louisiana        15.4      249                66         22.2\n",
            "18        Maine         2.1       83                51          7.8\n",
            "19     Maryland        11.3      300                67         27.8\n"
          ]
        }
      ]
    },
    {
      "cell_type": "markdown",
      "source": [
        "2.1.- Se escrutinian los datos del Dataset:\n",
        "--------------------------------------------\n",
        "\n",
        "✔ info() nos da información de las características y de las muestras del dataset, la cantidad  de muestras y cuantos Null hay, tipo de objeto al que hace referencia cada característica, etc."
      ],
      "metadata": {
        "id": "_hDEMPbOHwFi"
      }
    },
    {
      "cell_type": "code",
      "source": [
        "# Muetro la informacion del dataset\n",
        "data.info()"
      ],
      "metadata": {
        "id": "vry4jHVaHwU7",
        "colab": {
          "base_uri": "https://localhost:8080/"
        },
        "outputId": "648c9740-3821-4012-eb81-4198ae71c7e7"
      },
      "execution_count": null,
      "outputs": [
        {
          "output_type": "stream",
          "name": "stdout",
          "text": [
            "<class 'pandas.core.frame.DataFrame'>\n",
            "RangeIndex: 50 entries, 0 to 49\n",
            "Data columns (total 5 columns):\n",
            " #   Column            Non-Null Count  Dtype  \n",
            "---  ------            --------------  -----  \n",
            " 0   Estado            50 non-null     object \n",
            " 1   Asesinatos        50 non-null     float64\n",
            " 2   Asaltos           50 non-null     int64  \n",
            " 3   Poblacion Urbana  50 non-null     int64  \n",
            " 4   Violaciones       50 non-null     float64\n",
            "dtypes: float64(2), int64(2), object(1)\n",
            "memory usage: 2.1+ KB\n"
          ]
        }
      ]
    },
    {
      "cell_type": "markdown",
      "source": [
        "2.2.- Estadísticas Descriptivas:\n",
        "--------------------------------\n",
        "\n",
        "✔ El método describe() nos dará estadísticas descriptivas básicas de cada columna, lo que permite tener una visión general de la distribución de los datos:\n",
        "\n",
        "✔ Tenemos 50 datos con 4 características cada uno\n",
        "\n",
        "✔ Vemos los promedios de cada característica, el desvío estandar, el valor mínimo y máximo en cada columna y los cuartiles.\n",
        "\n",
        "✔ También observamos que el dataset no posee datos null.\n"
      ],
      "metadata": {
        "id": "eqwlr3-Z-MA1"
      }
    },
    {
      "cell_type": "code",
      "source": [
        "print(data.describe())"
      ],
      "metadata": {
        "id": "cG8zU8wY-MNM",
        "colab": {
          "base_uri": "https://localhost:8080/"
        },
        "outputId": "ac5b5ef0-d98e-4dfa-bfbd-fbf3dfd0b104"
      },
      "execution_count": null,
      "outputs": [
        {
          "output_type": "stream",
          "name": "stdout",
          "text": [
            "       Asesinatos     Asaltos  Poblacion Urbana  Violaciones\n",
            "count    50.00000   50.000000         50.000000    50.000000\n",
            "mean      7.78800  170.760000         65.540000    21.232000\n",
            "std       4.35551   83.337661         14.474763     9.366385\n",
            "min       0.80000   45.000000         32.000000     7.300000\n",
            "25%       4.07500  109.000000         54.500000    15.075000\n",
            "50%       7.25000  159.000000         66.000000    20.100000\n",
            "75%      11.25000  249.000000         77.750000    26.175000\n",
            "max      17.40000  337.000000         91.000000    46.000000\n"
          ]
        }
      ]
    },
    {
      "cell_type": "markdown",
      "source": [
        "2.3.- Faltante de datos:\n",
        "-------------------------\n",
        "\n",
        "✔ Se realiza un chequeo de faltante de datos, ya que esto puede ocacionar problemas al realizar los analisis o producir resultados sesgados.\n",
        "\n",
        "✔ en nuestro caso el dataset no posee datos faltantes con lo cual no haría falta tomar alguna decisíon al respecto. Si los hubiese, habría que tomar la decisión sobre que hacer, eliminarlos, rellenarlos, en caso de rellenarlos hay que elegir con que criterio (uno puede llegar a ser rellenarlo con la media) etc."
      ],
      "metadata": {
        "id": "XlZR5px3i4hC"
      }
    },
    {
      "cell_type": "code",
      "source": [
        "# Verificar valores faltantes\n",
        "missing_values = data.isnull().sum()\n",
        "print(\"Valores faltantes:\")\n",
        "print(missing_values)\n"
      ],
      "metadata": {
        "colab": {
          "base_uri": "https://localhost:8080/"
        },
        "id": "bu8C931ui41c",
        "outputId": "4654fafc-896a-4818-f220-8273874f6fcd"
      },
      "execution_count": null,
      "outputs": [
        {
          "output_type": "stream",
          "name": "stdout",
          "text": [
            "Valores faltantes:\n",
            "Estado              0\n",
            "Asesinatos          0\n",
            "Asaltos             0\n",
            "Poblacion Urbana    0\n",
            "Violaciones         0\n",
            "dtype: int64\n"
          ]
        }
      ]
    },
    {
      "cell_type": "markdown",
      "source": [
        "2.4.- Distribución de Variables:\n",
        "--------------------------------\n",
        "\n",
        "✔ La gráfica de distribución de variables nos muestra, por medio de una onda que distribucion tienen los datos de cada características.\n"
      ],
      "metadata": {
        "id": "EYHI-hX08z74"
      }
    },
    {
      "cell_type": "code",
      "source": [
        "# Visualización de la distribución de variables en un único gráfico\n",
        "fig, axes = plt.subplots(nrows=1, ncols=4, figsize=(18, 6))\n",
        "\n",
        "sns.histplot(data['Asesinatos'], bins=20, kde=True, color='blue', ax=axes[0])\n",
        "axes[0].set_title('Asesinatos por Estado')\n",
        "\n",
        "sns.histplot(data['Asaltos'], bins=20, kde=True, color='orange', ax=axes[1])\n",
        "axes[1].set_title('Asaltos por Estado')\n",
        "\n",
        "sns.histplot(data['Poblacion Urbana'], bins=20, kde=True, color='green', ax=axes[2])\n",
        "axes[2].set_title('Población Urbana por Estado')\n",
        "\n",
        "sns.histplot(data['Violaciones'], bins=20, kde=True, color='red', ax=axes[3])\n",
        "axes[3].set_title('Violaciones por Estado')\n",
        "\n",
        "plt.tight_layout()\n",
        "plt.show()\n"
      ],
      "metadata": {
        "colab": {
          "base_uri": "https://localhost:8080/",
          "height": 424
        },
        "id": "s_YaocXEGhhZ",
        "outputId": "b527dc4f-2477-45c3-ea1b-1066ed343b33"
      },
      "execution_count": null,
      "outputs": [
        {
          "output_type": "display_data",
          "data": {
            "text/plain": [
              "<Figure size 1800x600 with 4 Axes>"
            ],
            "image/png": "[encoded data removed]"
          },
          "metadata": {}
        }
      ]
    },
    {
      "cell_type": "markdown",
      "source": [
        "2.5.- Correlaciones:\n",
        "---------------------\n",
        "\n",
        "🚩 En este punta debemos realizar la siguiente aclaracion a fin de que se interprete los codigos de correlaciones:\n",
        "\n",
        "✅ Correlación cercana a 1: Indica una correlación positiva fuerte entre las dos variables. Esto significa que cuando una variable aumenta, la otra variable también tiende a aumentar, y viceversa.\n",
        "\n",
        "✅ Correlación cercana a -1: Indica una correlación negativa fuerte entre las dos variables. Esto significa que cuando una variable aumenta, la otra variable tiende a disminuir, y viceversa.\n",
        "\n",
        "✅ Correlación cercana a 0: Indica una correlación débil o nula entre las dos variables. En este caso, los cambios en una variable no están asociados de manera consistente con los cambios en la otra variable\n",
        "\n"
      ],
      "metadata": {
        "id": "PM9hS2wL-MXs"
      }
    },
    {
      "cell_type": "markdown",
      "source": [
        "✔ Se calcula la Matriz de correlación, para entender las relaciones lineales entre ellas.\n",
        "\n",
        "✔ Aquí apreciamos una correlación positiva fuerte entre Asesinatos y Asaltos - Asesinatos y Violaciones aunque esta úlima en menor medida. En cambio se observa una correlación positiva débil entre Asesinatos y Población.\n",
        "\n",
        "✔ Los Asaltos tienen una correlación Positifa fuerte con Asesinatos y Violaciones. Y una correlacion positiva débil con la Población.\n",
        "\n",
        "✔ La población tiene una correlación positiva Medianamente fuerte con las Violaciones. Y es positiva debil con respespeto a Asesinatos y Asaltos\n",
        "\n",
        "✔ Las violaciones tienen una correlacion positiva fuerte aunque de diferentes magnitudes con Asaltos, Asesinatos y Violaciones. Esto nos marca que es un delito que si depende de la cantidad de población."
      ],
      "metadata": {
        "id": "YS7DdTFdVH3Z"
      }
    },
    {
      "cell_type": "code",
      "source": [
        "correlation_matrix = data.corr(numeric_only=True)\n",
        "print(correlation_matrix)"
      ],
      "metadata": {
        "id": "BqHSljDh-Ml7",
        "colab": {
          "base_uri": "https://localhost:8080/"
        },
        "outputId": "c6087a1b-df2f-4ad8-e084-5ae6515b765a"
      },
      "execution_count": null,
      "outputs": [
        {
          "output_type": "stream",
          "name": "stdout",
          "text": [
            "                  Asesinatos   Asaltos  Poblacion Urbana  Violaciones\n",
            "Asesinatos          1.000000  0.801873          0.069573     0.563579\n",
            "Asaltos             0.801873  1.000000          0.258872     0.665241\n",
            "Poblacion Urbana    0.069573  0.258872          1.000000     0.411341\n",
            "Violaciones         0.563579  0.665241          0.411341     1.000000\n"
          ]
        }
      ]
    },
    {
      "cell_type": "markdown",
      "source": [
        "Matriz de correlaciones gráfica:\n",
        "\n",
        "✔ Si bien no aporta información extra, si quiza, para ojos menos expertos, ayude a una mejor y mas rápida asimilación del tipo de relación entre características."
      ],
      "metadata": {
        "id": "9SMHdcLaJfjo"
      }
    },
    {
      "cell_type": "code",
      "source": [
        "# Visualización gráfica de la correlación entre variables\n",
        "plt.figure(figsize=(7, 7))\n",
        "sns.heatmap(data[['Asesinatos', 'Asaltos','Poblacion Urbana', 'Violaciones']].corr(), annot=True, cmap='coolwarm', linewidths=.5)\n",
        "plt.title('Correlación entre Variables')\n",
        "plt.show()\n"
      ],
      "metadata": {
        "colab": {
          "base_uri": "https://localhost:8080/",
          "height": 622
        },
        "id": "-txgpcPH6DDu",
        "outputId": "cf67de60-0cd2-4c96-eabe-df8a7b889383"
      },
      "execution_count": null,
      "outputs": [
        {
          "output_type": "display_data",
          "data": {
            "text/plain": [
              "<Figure size 700x700 with 2 Axes>"
            ],
            "image/png": "[encoded data removed]"
          },
          "metadata": {}
        }
      ]
    },
    {
      "cell_type": "markdown",
      "source": [
        "2.6.- Grafica de relaciones entre características:\n",
        "--------------------------------------------------\n",
        "\n",
        "✔ Estos gráficos nos ayudan a seguir distinguiendo en forma visual las relaciones entre características"
      ],
      "metadata": {
        "id": "vBwkpG2jjRJK"
      }
    },
    {
      "cell_type": "code",
      "source": [
        "import seaborn as sns\n",
        "import matplotlib.pyplot as plt\n",
        "\n",
        "# Fig. 2.4\n",
        "\n",
        "# Establecer el tamaño total del gráfico\n",
        "plt.figure(figsize=(12, 8))\n",
        "\n",
        "# Subgráfico 1: Asesinatos vs. Asaltos\n",
        "plt.subplot(2, 3, 1)\n",
        "sns.regplot(x='Asesinatos', y='Asaltos', data=data, order=1, ci=None, line_kws={'color': 'red'})\n",
        "plt.title('Relación entre Asesinatos y Asaltos con línea de regresión')\n",
        "\n",
        "# Subgráfico 2: Asesinatos vs. Violaciones\n",
        "plt.subplot(2, 3, 2)\n",
        "sns.regplot(x='Asesinatos', y='Violaciones', data=data, order=1, ci=None, line_kws={'color': 'red'})\n",
        "plt.title('Asesinatos vs. Violaciones')\n",
        "\n",
        "# Subgráfico 3: Asesinatos vs. Poblacion\n",
        "plt.subplot(2, 3, 3)\n",
        "sns.regplot(x='Asesinatos', y='Poblacion Urbana', data=data, order=1, ci=None, line_kws={'color': 'red'})\n",
        "plt.title('Asesinatos vs. Poblacion Urbana')\n",
        "\n",
        "# Subgráfico 4: Asaltos vs. Violaciones\n",
        "plt.subplot(2, 3, 4)\n",
        "sns.regplot(x='Asaltos', y='Violaciones', data=data, order=1, ci=None, line_kws={'color': 'red'})\n",
        "plt.title('Asaltos vs. Violaciones')\n",
        "\n",
        "# Subgráfico 5: Asaltos vs. Poblacion\n",
        "plt.subplot(2, 3, 5)\n",
        "sns.regplot(x='Asaltos', y='Poblacion Urbana', data=data, order=1, ci=None, line_kws={'color': 'red'})\n",
        "plt.title('Asaltos vs. Poblacion Urbana')\n",
        "\n",
        "# Subgráfico 6: Violaciones vs. Poblacion\n",
        "plt.subplot(2, 3, 6)\n",
        "sns.regplot(x='Violaciones', y='Poblacion Urbana', data=data, order=1, ci=None, line_kws={'color': 'red'})\n",
        "plt.title('Violaciones vs. Poblacion Urbana')\n",
        "\n",
        "# Ajustar el diseño para evitar superposición\n",
        "plt.tight_layout()\n",
        "\n",
        "# Mostrar el gráfico\n",
        "plt.show()"
      ],
      "metadata": {
        "id": "1KYph-3EjRZJ"
      },
      "execution_count": null,
      "outputs": []
    },
    {
      "cell_type": "markdown",
      "source": [
        "2.7.- Grafico de Cajas Boxplot:\n",
        "-------------------------------\n",
        "\n",
        "Boxplot\n",
        "\n",
        "✔ Los diagramas de caja ayudan a identificar valores atípicos y la dispersión de datos, en forma gráfica.\n",
        "\n",
        "✔ La línea central de la caja indica la mediana de los datos. Si los datos son simétricos, la mediana estará en el centro de la caja. Si los datos están sesgados, la mediana estará más cerca de la parte superior o inferior de la caja.\n",
        "\n",
        "✔ Los extremos de arriba y abajo de la caja indican los cuantiles, o percentiles, 25 y 75. La longitud de la caja es la diferencia entre estos dos percentiles y se conoce como rango intercuartílico (IQR).\n",
        "\n",
        "✔ Las líneas que se extienden desde la caja se llaman bigotes. Los bigotes representan la varianza esperada de los datos. Estos bigotes se extienden 1,5 veces el IQR desde los extremos superior e inferior de la caja.\n",
        "\n",
        "✔ Si los datos no llegan hasta el final de los bigotes, estos se ajustan a los valores mínimo y máximo de los datos. Si hay datos que queden por encima o por debajo de los extremos de los bigotes, se los representa con puntos. Estos puntos se conocen como valores atípicos. Un valor atípico es el que supera la varianza esperada. Merece la pena revisar estos puntos de datos para aclarar si son atípicos o erróneos. Los bigotes no incluyen dichos valores."
      ],
      "metadata": {
        "id": "oFQaNxX7j882"
      }
    },
    {
      "cell_type": "code",
      "source": [
        "# Grafico de boxplot\n",
        "data.boxplot(column=['Asesinatos', 'Asaltos', 'Violaciones', 'Poblacion Urbana'])\n",
        "plt.title('Boxplot de las categorías')\n",
        "plt.show()"
      ],
      "metadata": {
        "colab": {
          "base_uri": "https://localhost:8080/",
          "height": 453
        },
        "id": "Msf-p65Jj9VD",
        "outputId": "35d90774-b890-43af-f325-3f99cb036ea4"
      },
      "execution_count": null,
      "outputs": [
        {
          "output_type": "display_data",
          "data": {
            "text/plain": [
              "<Figure size 640x480 with 1 Axes>"
            ],
            "image/png": "[encoded data removed]"
          },
          "metadata": {}
        }
      ]
    },
    {
      "cell_type": "markdown",
      "source": [
        "🚩 NOTA - Columna Abreviados :\n",
        "--------------------------------------------------\n",
        "Al llegar a la parte de intentar graficar con Plotly express el mapa de EEUU, dividido por estados, y coloreado de acuerdo a la Peligrosidad Baja o Alta de cada uno, nos encontramos con que al tener diferencia en la forma en que están cargados los nombres de los estados en el dataset y como los usa plotly express (usa la abreviación de estos), no podíamos graficarlos, motivo por el cual se crea un dataset aparte con los estados y su abreviación y se anexa la columna \"Abreviado\" al dataset \"data\"."
      ],
      "metadata": {
        "id": "dd0qN_oIF7vj"
      }
    },
    {
      "cell_type": "code",
      "source": [
        "# Fusionar los dataframes en base a la columna 'Estado'\n",
        "data['Abreviado'] = estados_abreviados['Abrev']\n",
        "\n",
        "# Ahora, el dataframe 'data' tiene una nueva columna 'Abrev' con la abreviatura de los estados\n",
        "data.info()\n",
        "\n",
        "data"
      ],
      "metadata": {
        "id": "eqxwdG1OF733",
        "colab": {
          "base_uri": "https://localhost:8080/",
          "height": 1000
        },
        "outputId": "9b62d989-c419-4c15-a1aa-1a76c50963a2"
      },
      "execution_count": null,
      "outputs": [
        {
          "output_type": "stream",
          "name": "stdout",
          "text": [
            "<class 'pandas.core.frame.DataFrame'>\n",
            "RangeIndex: 50 entries, 0 to 49\n",
            "Data columns (total 6 columns):\n",
            " #   Column            Non-Null Count  Dtype  \n",
            "---  ------            --------------  -----  \n",
            " 0   Estado            50 non-null     object \n",
            " 1   Asesinatos        50 non-null     float64\n",
            " 2   Asaltos           50 non-null     int64  \n",
            " 3   Poblacion Urbana  50 non-null     int64  \n",
            " 4   Violaciones       50 non-null     float64\n",
            " 5   Abreviado         50 non-null     object \n",
            "dtypes: float64(2), int64(2), object(2)\n",
            "memory usage: 2.5+ KB\n"
          ]
        },
        {
          "output_type": "execute_result",
          "data": {
            "text/plain": [
              "            Estado  Asesinatos  Asaltos  Poblacion Urbana  Violaciones  \\\n",
              "0          Alabama        13.2      236                58         21.2   \n",
              "1           Alaska        10.0      263                48         44.5   \n",
              "2          Arizona         8.1      294                80         31.0   \n",
              "3         Arkansas         8.8      190                50         19.5   \n",
              "4       California         9.0      276                91         40.6   \n",
              "5         Colorado         7.9      204                78         38.7   \n",
              "6      Connecticut         3.3      110                77         11.1   \n",
              "7         Delaware         5.9      238                72         15.8   \n",
              "8          Florida        15.4      335                80         31.9   \n",
              "9          Georgia        17.4      211                60         25.8   \n",
              "10          Hawaii         5.3       46                83         20.2   \n",
              "11           Idaho         2.6      120                54         14.2   \n",
              "12        Illinois        10.4      249                83         24.0   \n",
              "13         Indiana         7.2      113                65         21.0   \n",
              "14            Iowa         2.2       56                57         11.3   \n",
              "15          Kansas         6.0      115                66         18.0   \n",
              "16        Kentucky         9.7      109                52         16.3   \n",
              "17       Louisiana        15.4      249                66         22.2   \n",
              "18           Maine         2.1       83                51          7.8   \n",
              "19        Maryland        11.3      300                67         27.8   \n",
              "20   Massachusetts         4.4      149                85         16.3   \n",
              "21        Michigan        12.1      255                74         35.1   \n",
              "22       Minnesota         2.7       72                66         14.9   \n",
              "23     Mississippi        16.1      259                44         17.1   \n",
              "24        Missouri         9.0      178                70         28.2   \n",
              "25         Montana         6.0      109                53         16.4   \n",
              "26        Nebraska         4.3      102                62         16.5   \n",
              "27          Nevada        12.2      252                81         46.0   \n",
              "28   New Hampshire         2.1       57                56          9.5   \n",
              "29      New Jersey         7.4      159                89         18.8   \n",
              "30      New Mexico        11.4      285                70         32.1   \n",
              "31        New York        11.1      254                86         26.1   \n",
              "32  North Carolina        13.0      337                45         16.1   \n",
              "33    North Dakota         0.8       45                44          7.3   \n",
              "34            Ohio         7.3      120                75         21.4   \n",
              "35        Oklahoma         6.6      151                68         20.0   \n",
              "36          Oregon         4.9      159                67         29.3   \n",
              "37    Pennsylvania         6.3      106                72         14.9   \n",
              "38    Rhode Island         3.4      174                87          8.3   \n",
              "39  South Carolina        14.4      279                48         22.5   \n",
              "40    South Dakota         3.8       86                45         12.8   \n",
              "41       Tennessee        13.2      188                59         26.9   \n",
              "42           Texas        12.7      201                80         25.5   \n",
              "43            Utah         3.2      120                80         22.9   \n",
              "44         Vermont         2.2       48                32         11.2   \n",
              "45        Virginia         8.5      156                63         20.7   \n",
              "46      Washington         4.0      145                73         26.2   \n",
              "47   West Virginia         5.7       81                39          9.3   \n",
              "48       Wisconsin         2.6       53                66         10.8   \n",
              "49         Wyoming         6.8      161                60         15.6   \n",
              "\n",
              "   Abreviado  \n",
              "0         AL  \n",
              "1         AK  \n",
              "2         AR  \n",
              "3         AZ  \n",
              "4         CA  \n",
              "5         CO  \n",
              "6         CT  \n",
              "7         DE  \n",
              "8         FL  \n",
              "9         GA  \n",
              "10        HI  \n",
              "11        ID  \n",
              "12        IL  \n",
              "13        IN  \n",
              "14        IA  \n",
              "15        KS  \n",
              "16        KY  \n",
              "17        LA  \n",
              "18        ME  \n",
              "19        MD  \n",
              "20        MA  \n",
              "21        MI  \n",
              "22        MN  \n",
              "23        MS  \n",
              "24        MO  \n",
              "25        MT  \n",
              "26        NE  \n",
              "27        NV  \n",
              "28        NH  \n",
              "29        NJ  \n",
              "30        NM  \n",
              "31        NY  \n",
              "32        NC  \n",
              "33        ND  \n",
              "34        OH  \n",
              "35        OK  \n",
              "36        OR  \n",
              "37        PA  \n",
              "38        RI  \n",
              "39        SC  \n",
              "40        SD  \n",
              "41        TN  \n",
              "42        TX  \n",
              "43        UT  \n",
              "44        VT  \n",
              "45        VA  \n",
              "46        WA  \n",
              "47        WV  \n",
              "48        WI  \n",
              "49        WY  "
            ],
            "text/html": [
              "\n",
              "  <div id=\"df-6809138d-1e50-4737-81a8-b679337fb8ce\" class=\"colab-df-container\">\n",
              "    <div>\n",
              "<style scoped>\n",
              "    .dataframe tbody tr th:only-of-type {\n",
              "        vertical-align: middle;\n",
              "    }\n",
              "\n",
              "    .dataframe tbody tr th {\n",
              "        vertical-align: top;\n",
              "    }\n",
              "\n",
              "    .dataframe thead th {\n",
              "        text-align: right;\n",
              "    }\n",
              "</style>\n",
              "<table border=\"1\" class=\"dataframe\">\n",
              "  <thead>\n",
              "    <tr style=\"text-align: right;\">\n",
              "      <th></th>\n",
              "      <th>Estado</th>\n",
              "      <th>Asesinatos</th>\n",
              "      <th>Asaltos</th>\n",
              "      <th>Poblacion Urbana</th>\n",
              "      <th>Violaciones</th>\n",
              "      <th>Abreviado</th>\n",
              "    </tr>\n",
              "  </thead>\n",
              "  <tbody>\n",
              "    <tr>\n",
              "      <th>0</th>\n",
              "      <td>Alabama</td>\n",
              "      <td>13.2</td>\n",
              "      <td>236</td>\n",
              "      <td>58</td>\n",
              "      <td>21.2</td>\n",
              "      <td>AL</td>\n",
              "    </tr>\n",
              "    <tr>\n",
              "      <th>1</th>\n",
              "      <td>Alaska</td>\n",
              "      <td>10.0</td>\n",
              "      <td>263</td>\n",
              "      <td>48</td>\n",
              "      <td>44.5</td>\n",
              "      <td>AK</td>\n",
              "    </tr>\n",
              "    <tr>\n",
              "      <th>2</th>\n",
              "      <td>Arizona</td>\n",
              "      <td>8.1</td>\n",
              "      <td>294</td>\n",
              "      <td>80</td>\n",
              "      <td>31.0</td>\n",
              "      <td>AR</td>\n",
              "    </tr>\n",
              "    <tr>\n",
              "      <th>3</th>\n",
              "      <td>Arkansas</td>\n",
              "      <td>8.8</td>\n",
              "      <td>190</td>\n",
              "      <td>50</td>\n",
              "      <td>19.5</td>\n",
              "      <td>AZ</td>\n",
              "    </tr>\n",
              "    <tr>\n",
              "      <th>4</th>\n",
              "      <td>California</td>\n",
              "      <td>9.0</td>\n",
              "      <td>276</td>\n",
              "      <td>91</td>\n",
              "      <td>40.6</td>\n",
              "      <td>CA</td>\n",
              "    </tr>\n",
              "    <tr>\n",
              "      <th>5</th>\n",
              "      <td>Colorado</td>\n",
              "      <td>7.9</td>\n",
              "      <td>204</td>\n",
              "      <td>78</td>\n",
              "      <td>38.7</td>\n",
              "      <td>CO</td>\n",
              "    </tr>\n",
              "    <tr>\n",
              "      <th>6</th>\n",
              "      <td>Connecticut</td>\n",
              "      <td>3.3</td>\n",
              "      <td>110</td>\n",
              "      <td>77</td>\n",
              "      <td>11.1</td>\n",
              "      <td>CT</td>\n",
              "    </tr>\n",
              "    <tr>\n",
              "      <th>7</th>\n",
              "      <td>Delaware</td>\n",
              "      <td>5.9</td>\n",
              "      <td>238</td>\n",
              "      <td>72</td>\n",
              "      <td>15.8</td>\n",
              "      <td>DE</td>\n",
              "    </tr>\n",
              "    <tr>\n",
              "      <th>8</th>\n",
              "      <td>Florida</td>\n",
              "      <td>15.4</td>\n",
              "      <td>335</td>\n",
              "      <td>80</td>\n",
              "      <td>31.9</td>\n",
              "      <td>FL</td>\n",
              "    </tr>\n",
              "    <tr>\n",
              "      <th>9</th>\n",
              "      <td>Georgia</td>\n",
              "      <td>17.4</td>\n",
              "      <td>211</td>\n",
              "      <td>60</td>\n",
              "      <td>25.8</td>\n",
              "      <td>GA</td>\n",
              "    </tr>\n",
              "    <tr>\n",
              "      <th>10</th>\n",
              "      <td>Hawaii</td>\n",
              "      <td>5.3</td>\n",
              "      <td>46</td>\n",
              "      <td>83</td>\n",
              "      <td>20.2</td>\n",
              "      <td>HI</td>\n",
              "    </tr>\n",
              "    <tr>\n",
              "      <th>11</th>\n",
              "      <td>Idaho</td>\n",
              "      <td>2.6</td>\n",
              "      <td>120</td>\n",
              "      <td>54</td>\n",
              "      <td>14.2</td>\n",
              "      <td>ID</td>\n",
              "    </tr>\n",
              "    <tr>\n",
              "      <th>12</th>\n",
              "      <td>Illinois</td>\n",
              "      <td>10.4</td>\n",
              "      <td>249</td>\n",
              "      <td>83</td>\n",
              "      <td>24.0</td>\n",
              "      <td>IL</td>\n",
              "    </tr>\n",
              "    <tr>\n",
              "      <th>13</th>\n",
              "      <td>Indiana</td>\n",
              "      <td>7.2</td>\n",
              "      <td>113</td>\n",
              "      <td>65</td>\n",
              "      <td>21.0</td>\n",
              "      <td>IN</td>\n",
              "    </tr>\n",
              "    <tr>\n",
              "      <th>14</th>\n",
              "      <td>Iowa</td>\n",
              "      <td>2.2</td>\n",
              "      <td>56</td>\n",
              "      <td>57</td>\n",
              "      <td>11.3</td>\n",
              "      <td>IA</td>\n",
              "    </tr>\n",
              "    <tr>\n",
              "      <th>15</th>\n",
              "      <td>Kansas</td>\n",
              "      <td>6.0</td>\n",
              "      <td>115</td>\n",
              "      <td>66</td>\n",
              "      <td>18.0</td>\n",
              "      <td>KS</td>\n",
              "    </tr>\n",
              "    <tr>\n",
              "      <th>16</th>\n",
              "      <td>Kentucky</td>\n",
              "      <td>9.7</td>\n",
              "      <td>109</td>\n",
              "      <td>52</td>\n",
              "      <td>16.3</td>\n",
              "      <td>KY</td>\n",
              "    </tr>\n",
              "    <tr>\n",
              "      <th>17</th>\n",
              "      <td>Louisiana</td>\n",
              "      <td>15.4</td>\n",
              "      <td>249</td>\n",
              "      <td>66</td>\n",
              "      <td>22.2</td>\n",
              "      <td>LA</td>\n",
              "    </tr>\n",
              "    <tr>\n",
              "      <th>18</th>\n",
              "      <td>Maine</td>\n",
              "      <td>2.1</td>\n",
              "      <td>83</td>\n",
              "      <td>51</td>\n",
              "      <td>7.8</td>\n",
              "      <td>ME</td>\n",
              "    </tr>\n",
              "    <tr>\n",
              "      <th>19</th>\n",
              "      <td>Maryland</td>\n",
              "      <td>11.3</td>\n",
              "      <td>300</td>\n",
              "      <td>67</td>\n",
              "      <td>27.8</td>\n",
              "      <td>MD</td>\n",
              "    </tr>\n",
              "    <tr>\n",
              "      <th>20</th>\n",
              "      <td>Massachusetts</td>\n",
              "      <td>4.4</td>\n",
              "      <td>149</td>\n",
              "      <td>85</td>\n",
              "      <td>16.3</td>\n",
              "      <td>MA</td>\n",
              "    </tr>\n",
              "    <tr>\n",
              "      <th>21</th>\n",
              "      <td>Michigan</td>\n",
              "      <td>12.1</td>\n",
              "      <td>255</td>\n",
              "      <td>74</td>\n",
              "      <td>35.1</td>\n",
              "      <td>MI</td>\n",
              "    </tr>\n",
              "    <tr>\n",
              "      <th>22</th>\n",
              "      <td>Minnesota</td>\n",
              "      <td>2.7</td>\n",
              "      <td>72</td>\n",
              "      <td>66</td>\n",
              "      <td>14.9</td>\n",
              "      <td>MN</td>\n",
              "    </tr>\n",
              "    <tr>\n",
              "      <th>23</th>\n",
              "      <td>Mississippi</td>\n",
              "      <td>16.1</td>\n",
              "      <td>259</td>\n",
              "      <td>44</td>\n",
              "      <td>17.1</td>\n",
              "      <td>MS</td>\n",
              "    </tr>\n",
              "    <tr>\n",
              "      <th>24</th>\n",
              "      <td>Missouri</td>\n",
              "      <td>9.0</td>\n",
              "      <td>178</td>\n",
              "      <td>70</td>\n",
              "      <td>28.2</td>\n",
              "      <td>MO</td>\n",
              "    </tr>\n",
              "    <tr>\n",
              "      <th>25</th>\n",
              "      <td>Montana</td>\n",
              "      <td>6.0</td>\n",
              "      <td>109</td>\n",
              "      <td>53</td>\n",
              "      <td>16.4</td>\n",
              "      <td>MT</td>\n",
              "    </tr>\n",
              "    <tr>\n",
              "      <th>26</th>\n",
              "      <td>Nebraska</td>\n",
              "      <td>4.3</td>\n",
              "      <td>102</td>\n",
              "      <td>62</td>\n",
              "      <td>16.5</td>\n",
              "      <td>NE</td>\n",
              "    </tr>\n",
              "    <tr>\n",
              "      <th>27</th>\n",
              "      <td>Nevada</td>\n",
              "      <td>12.2</td>\n",
              "      <td>252</td>\n",
              "      <td>81</td>\n",
              "      <td>46.0</td>\n",
              "      <td>NV</td>\n",
              "    </tr>\n",
              "    <tr>\n",
              "      <th>28</th>\n",
              "      <td>New Hampshire</td>\n",
              "      <td>2.1</td>\n",
              "      <td>57</td>\n",
              "      <td>56</td>\n",
              "      <td>9.5</td>\n",
              "      <td>NH</td>\n",
              "    </tr>\n",
              "    <tr>\n",
              "      <th>29</th>\n",
              "      <td>New Jersey</td>\n",
              "      <td>7.4</td>\n",
              "      <td>159</td>\n",
              "      <td>89</td>\n",
              "      <td>18.8</td>\n",
              "      <td>NJ</td>\n",
              "    </tr>\n",
              "    <tr>\n",
              "      <th>30</th>\n",
              "      <td>New Mexico</td>\n",
              "      <td>11.4</td>\n",
              "      <td>285</td>\n",
              "      <td>70</td>\n",
              "      <td>32.1</td>\n",
              "      <td>NM</td>\n",
              "    </tr>\n",
              "    <tr>\n",
              "      <th>31</th>\n",
              "      <td>New York</td>\n",
              "      <td>11.1</td>\n",
              "      <td>254</td>\n",
              "      <td>86</td>\n",
              "      <td>26.1</td>\n",
              "      <td>NY</td>\n",
              "    </tr>\n",
              "    <tr>\n",
              "      <th>32</th>\n",
              "      <td>North Carolina</td>\n",
              "      <td>13.0</td>\n",
              "      <td>337</td>\n",
              "      <td>45</td>\n",
              "      <td>16.1</td>\n",
              "      <td>NC</td>\n",
              "    </tr>\n",
              "    <tr>\n",
              "      <th>33</th>\n",
              "      <td>North Dakota</td>\n",
              "      <td>0.8</td>\n",
              "      <td>45</td>\n",
              "      <td>44</td>\n",
              "      <td>7.3</td>\n",
              "      <td>ND</td>\n",
              "    </tr>\n",
              "    <tr>\n",
              "      <th>34</th>\n",
              "      <td>Ohio</td>\n",
              "      <td>7.3</td>\n",
              "      <td>120</td>\n",
              "      <td>75</td>\n",
              "      <td>21.4</td>\n",
              "      <td>OH</td>\n",
              "    </tr>\n",
              "    <tr>\n",
              "      <th>35</th>\n",
              "      <td>Oklahoma</td>\n",
              "      <td>6.6</td>\n",
              "      <td>151</td>\n",
              "      <td>68</td>\n",
              "      <td>20.0</td>\n",
              "      <td>OK</td>\n",
              "    </tr>\n",
              "    <tr>\n",
              "      <th>36</th>\n",
              "      <td>Oregon</td>\n",
              "      <td>4.9</td>\n",
              "      <td>159</td>\n",
              "      <td>67</td>\n",
              "      <td>29.3</td>\n",
              "      <td>OR</td>\n",
              "    </tr>\n",
              "    <tr>\n",
              "      <th>37</th>\n",
              "      <td>Pennsylvania</td>\n",
              "      <td>6.3</td>\n",
              "      <td>106</td>\n",
              "      <td>72</td>\n",
              "      <td>14.9</td>\n",
              "      <td>PA</td>\n",
              "    </tr>\n",
              "    <tr>\n",
              "      <th>38</th>\n",
              "      <td>Rhode Island</td>\n",
              "      <td>3.4</td>\n",
              "      <td>174</td>\n",
              "      <td>87</td>\n",
              "      <td>8.3</td>\n",
              "      <td>RI</td>\n",
              "    </tr>\n",
              "    <tr>\n",
              "      <th>39</th>\n",
              "      <td>South Carolina</td>\n",
              "      <td>14.4</td>\n",
              "      <td>279</td>\n",
              "      <td>48</td>\n",
              "      <td>22.5</td>\n",
              "      <td>SC</td>\n",
              "    </tr>\n",
              "    <tr>\n",
              "      <th>40</th>\n",
              "      <td>South Dakota</td>\n",
              "      <td>3.8</td>\n",
              "      <td>86</td>\n",
              "      <td>45</td>\n",
              "      <td>12.8</td>\n",
              "      <td>SD</td>\n",
              "    </tr>\n",
              "    <tr>\n",
              "      <th>41</th>\n",
              "      <td>Tennessee</td>\n",
              "      <td>13.2</td>\n",
              "      <td>188</td>\n",
              "      <td>59</td>\n",
              "      <td>26.9</td>\n",
              "      <td>TN</td>\n",
              "    </tr>\n",
              "    <tr>\n",
              "      <th>42</th>\n",
              "      <td>Texas</td>\n",
              "      <td>12.7</td>\n",
              "      <td>201</td>\n",
              "      <td>80</td>\n",
              "      <td>25.5</td>\n",
              "      <td>TX</td>\n",
              "    </tr>\n",
              "    <tr>\n",
              "      <th>43</th>\n",
              "      <td>Utah</td>\n",
              "      <td>3.2</td>\n",
              "      <td>120</td>\n",
              "      <td>80</td>\n",
              "      <td>22.9</td>\n",
              "      <td>UT</td>\n",
              "    </tr>\n",
              "    <tr>\n",
              "      <th>44</th>\n",
              "      <td>Vermont</td>\n",
              "      <td>2.2</td>\n",
              "      <td>48</td>\n",
              "      <td>32</td>\n",
              "      <td>11.2</td>\n",
              "      <td>VT</td>\n",
              "    </tr>\n",
              "    <tr>\n",
              "      <th>45</th>\n",
              "      <td>Virginia</td>\n",
              "      <td>8.5</td>\n",
              "      <td>156</td>\n",
              "      <td>63</td>\n",
              "      <td>20.7</td>\n",
              "      <td>VA</td>\n",
              "    </tr>\n",
              "    <tr>\n",
              "      <th>46</th>\n",
              "      <td>Washington</td>\n",
              "      <td>4.0</td>\n",
              "      <td>145</td>\n",
              "      <td>73</td>\n",
              "      <td>26.2</td>\n",
              "      <td>WA</td>\n",
              "    </tr>\n",
              "    <tr>\n",
              "      <th>47</th>\n",
              "      <td>West Virginia</td>\n",
              "      <td>5.7</td>\n",
              "      <td>81</td>\n",
              "      <td>39</td>\n",
              "      <td>9.3</td>\n",
              "      <td>WV</td>\n",
              "    </tr>\n",
              "    <tr>\n",
              "      <th>48</th>\n",
              "      <td>Wisconsin</td>\n",
              "      <td>2.6</td>\n",
              "      <td>53</td>\n",
              "      <td>66</td>\n",
              "      <td>10.8</td>\n",
              "      <td>WI</td>\n",
              "    </tr>\n",
              "    <tr>\n",
              "      <th>49</th>\n",
              "      <td>Wyoming</td>\n",
              "      <td>6.8</td>\n",
              "      <td>161</td>\n",
              "      <td>60</td>\n",
              "      <td>15.6</td>\n",
              "      <td>WY</td>\n",
              "    </tr>\n",
              "  </tbody>\n",
              "</table>\n",
              "</div>\n",
              "    <div class=\"colab-df-buttons\">\n",
              "\n",
              "  <div class=\"colab-df-container\">\n",
              "    <button class=\"colab-df-convert\" onclick=\"convertToInteractive('df-6809138d-1e50-4737-81a8-b679337fb8ce')\"\n",
              "            title=\"Convert this dataframe to an interactive table.\"\n",
              "            style=\"display:none;\">\n",
              "\n",
              "  <svg xmlns=\"http://www.w3.org/2000/svg\" height=\"24px\" viewBox=\"0 -960 960 960\">\n",
              "    <path d=\"M120-120v-720h720v720H120Zm60-500h600v-160H180v160Zm220 220h160v-160H400v160Zm0 220h160v-160H400v160ZM180-400h160v-160H180v160Zm440 0h160v-160H620v160ZM180-180h160v-160H180v160Zm440 0h160v-160H620v160Z\"/>\n",
              "  </svg>\n",
              "    </button>\n",
              "\n",
              "  <style>\n",
              "    .colab-df-container {\n",
              "      display:flex;\n",
              "      gap: 12px;\n",
              "    }\n",
              "\n",
              "    .colab-df-convert {\n",
              "      background-color: #E8F0FE;\n",
              "      border: none;\n",
              "      border-radius: 50%;\n",
              "      cursor: pointer;\n",
              "      display: none;\n",
              "      fill: #1967D2;\n",
              "      height: 32px;\n",
              "      padding: 0 0 0 0;\n",
              "      width: 32px;\n",
              "    }\n",
              "\n",
              "    .colab-df-convert:hover {\n",
              "      background-color: #E2EBFA;\n",
              "      box-shadow: 0px 1px 2px rgba(60, 64, 67, 0.3), 0px 1px 3px 1px rgba(60, 64, 67, 0.15);\n",
              "      fill: #174EA6;\n",
              "    }\n",
              "\n",
              "    .colab-df-buttons div {\n",
              "      margin-bottom: 4px;\n",
              "    }\n",
              "\n",
              "    [theme=dark] .colab-df-convert {\n",
              "      background-color: #3B4455;\n",
              "      fill: #D2E3FC;\n",
              "    }\n",
              "\n",
              "    [theme=dark] .colab-df-convert:hover {\n",
              "      background-color: #434B5C;\n",
              "      box-shadow: 0px 1px 3px 1px rgba(0, 0, 0, 0.15);\n",
              "      filter: drop-shadow(0px 1px 2px rgba(0, 0, 0, 0.3));\n",
              "      fill: #FFFFFF;\n",
              "    }\n",
              "  </style>\n",
              "\n",
              "    <script>\n",
              "      const buttonEl =\n",
              "        document.querySelector('#df-6809138d-1e50-4737-81a8-b679337fb8ce button.colab-df-convert');\n",
              "      buttonEl.style.display =\n",
              "        google.colab.kernel.accessAllowed ? 'block' : 'none';\n",
              "\n",
              "      async function convertToInteractive(key) {\n",
              "        const element = document.querySelector('#df-6809138d-1e50-4737-81a8-b679337fb8ce');\n",
              "        const dataTable =\n",
              "          await google.colab.kernel.invokeFunction('convertToInteractive',\n",
              "                                                    [key], {});\n",
              "        if (!dataTable) return;\n",
              "\n",
              "        const docLinkHtml = 'Like what you see? Visit the ' +\n",
              "          '<a target=\"_blank\" href=https://colab.research.google.com/notebooks/data_table.ipynb>data table notebook</a>'\n",
              "          + ' to learn more about interactive tables.';\n",
              "        element.innerHTML = '';\n",
              "        dataTable['output_type'] = 'display_data';\n",
              "        await google.colab.output.renderOutput(dataTable, element);\n",
              "        const docLink = document.createElement('div');\n",
              "        docLink.innerHTML = docLinkHtml;\n",
              "        element.appendChild(docLink);\n",
              "      }\n",
              "    </script>\n",
              "  </div>\n",
              "\n",
              "\n",
              "<div id=\"df-8325b392-ddff-4941-a5b6-029501f62801\">\n",
              "  <button class=\"colab-df-quickchart\" onclick=\"quickchart('df-8325b392-ddff-4941-a5b6-029501f62801')\"\n",
              "            title=\"Suggest charts\"\n",
              "            style=\"display:none;\">\n",
              "\n",
              "<svg xmlns=\"http://www.w3.org/2000/svg\" height=\"24px\"viewBox=\"0 0 24 24\"\n",
              "     width=\"24px\">\n",
              "    <g>\n",
              "        <path d=\"M19 3H5c-1.1 0-2 .9-2 2v14c0 1.1.9 2 2 2h14c1.1 0 2-.9 2-2V5c0-1.1-.9-2-2-2zM9 17H7v-7h2v7zm4 0h-2V7h2v10zm4 0h-2v-4h2v4z\"/>\n",
              "    </g>\n",
              "</svg>\n",
              "  </button>\n",
              "\n",
              "<style>\n",
              "  .colab-df-quickchart {\n",
              "      --bg-color: #E8F0FE;\n",
              "      --fill-color: #1967D2;\n",
              "      --hover-bg-color: #E2EBFA;\n",
              "      --hover-fill-color: #174EA6;\n",
              "      --disabled-fill-color: #AAA;\n",
              "      --disabled-bg-color: #DDD;\n",
              "  }\n",
              "\n",
              "  [theme=dark] .colab-df-quickchart {\n",
              "      --bg-color: #3B4455;\n",
              "      --fill-color: #D2E3FC;\n",
              "      --hover-bg-color: #434B5C;\n",
              "      --hover-fill-color: #FFFFFF;\n",
              "      --disabled-bg-color: #3B4455;\n",
              "      --disabled-fill-color: #666;\n",
              "  }\n",
              "\n",
              "  .colab-df-quickchart {\n",
              "    background-color: var(--bg-color);\n",
              "    border: none;\n",
              "    border-radius: 50%;\n",
              "    cursor: pointer;\n",
              "    display: none;\n",
              "    fill: var(--fill-color);\n",
              "    height: 32px;\n",
              "    padding: 0;\n",
              "    width: 32px;\n",
              "  }\n",
              "\n",
              "  .colab-df-quickchart:hover {\n",
              "    background-color: var(--hover-bg-color);\n",
              "    box-shadow: 0 1px 2px rgba(60, 64, 67, 0.3), 0 1px 3px 1px rgba(60, 64, 67, 0.15);\n",
              "    fill: var(--button-hover-fill-color);\n",
              "  }\n",
              "\n",
              "  .colab-df-quickchart-complete:disabled,\n",
              "  .colab-df-quickchart-complete:disabled:hover {\n",
              "    background-color: var(--disabled-bg-color);\n",
              "    fill: var(--disabled-fill-color);\n",
              "    box-shadow: none;\n",
              "  }\n",
              "\n",
              "  .colab-df-spinner {\n",
              "    border: 2px solid var(--fill-color);\n",
              "    border-color: transparent;\n",
              "    border-bottom-color: var(--fill-color);\n",
              "    animation:\n",
              "      spin 1s steps(1) infinite;\n",
              "  }\n",
              "\n",
              "  @keyframes spin {\n",
              "    0% {\n",
              "      border-color: transparent;\n",
              "      border-bottom-color: var(--fill-color);\n",
              "      border-left-color: var(--fill-color);\n",
              "    }\n",
              "    20% {\n",
              "      border-color: transparent;\n",
              "      border-left-color: var(--fill-color);\n",
              "      border-top-color: var(--fill-color);\n",
              "    }\n",
              "    30% {\n",
              "      border-color: transparent;\n",
              "      border-left-color: var(--fill-color);\n",
              "      border-top-color: var(--fill-color);\n",
              "      border-right-color: var(--fill-color);\n",
              "    }\n",
              "    40% {\n",
              "      border-color: transparent;\n",
              "      border-right-color: var(--fill-color);\n",
              "      border-top-color: var(--fill-color);\n",
              "    }\n",
              "    60% {\n",
              "      border-color: transparent;\n",
              "      border-right-color: var(--fill-color);\n",
              "    }\n",
              "    80% {\n",
              "      border-color: transparent;\n",
              "      border-right-color: var(--fill-color);\n",
              "      border-bottom-color: var(--fill-color);\n",
              "    }\n",
              "    90% {\n",
              "      border-color: transparent;\n",
              "      border-bottom-color: var(--fill-color);\n",
              "    }\n",
              "  }\n",
              "</style>\n",
              "\n",
              "  <script>\n",
              "    async function quickchart(key) {\n",
              "      const quickchartButtonEl =\n",
              "        document.querySelector('#' + key + ' button');\n",
              "      quickchartButtonEl.disabled = true;  // To prevent multiple clicks.\n",
              "      quickchartButtonEl.classList.add('colab-df-spinner');\n",
              "      try {\n",
              "        const charts = await google.colab.kernel.invokeFunction(\n",
              "            'suggestCharts', [key], {});\n",
              "      } catch (error) {\n",
              "        console.error('Error during call to suggestCharts:', error);\n",
              "      }\n",
              "      quickchartButtonEl.classList.remove('colab-df-spinner');\n",
              "      quickchartButtonEl.classList.add('colab-df-quickchart-complete');\n",
              "    }\n",
              "    (() => {\n",
              "      let quickchartButtonEl =\n",
              "        document.querySelector('#df-8325b392-ddff-4941-a5b6-029501f62801 button');\n",
              "      quickchartButtonEl.style.display =\n",
              "        google.colab.kernel.accessAllowed ? 'block' : 'none';\n",
              "    })();\n",
              "  </script>\n",
              "</div>\n",
              "    </div>\n",
              "  </div>\n"
            ]
          },
          "metadata": {},
          "execution_count": 11
        }
      ]
    },
    {
      "cell_type": "markdown",
      "source": [
        "2.8.- Visualizacion de Distribucion de variables:\n",
        "--------------------------------------------------\n",
        "\n",
        "✔ Utilizamos pairplot para ver como estan distribuidas las variables"
      ],
      "metadata": {
        "id": "pThQ4b5Ca8Yd"
      }
    },
    {
      "cell_type": "code",
      "source": [
        "# Visualizar la distribución de las variables\n",
        "sns.pairplot(data)\n",
        "plt.show()\n"
      ],
      "metadata": {
        "id": "C8KrG1-pa8h2"
      },
      "execution_count": null,
      "outputs": []
    },
    {
      "cell_type": "markdown",
      "source": [
        "3.- Normalización de Datos:\n",
        "--------------------------\n",
        "\n",
        "✔ La normalización es una práctica común en el análisis de datos para garantizar que las diferencias en las escalas de las características no afecten negativamente el rendimiento de los algoritmos.\n",
        "\n",
        "✔ Se crea una instancia del StandardScaler y luego se utiliza para transformar las características seleccionadas (features).\n",
        "\n",
        "✔ El método fit_transform de scaler, ajusta el escalador a los datos y transforma las características de manera que tengan una media de cero y una desviación estándar de uno. Este paso es esencial para asegurar que todas las características tengan la misma escala y evitar que una característica domine sobre las demás debido a sus magnitudes.\n"
      ],
      "metadata": {
        "id": "Wi6RDiMIK8hE"
      }
    },
    {
      "cell_type": "markdown",
      "source": [
        "\n",
        "✔ Después de este paso, features_scaled contendrá las características normalizadas que se utilizarán en la aplicación de los algoritmos de clustering Kmean - DBScan y Mean Shift"
      ],
      "metadata": {
        "id": "h6QRvsmfguTK"
      }
    },
    {
      "cell_type": "code",
      "source": [
        "# Normalización de los datos:\n",
        "# -------------------------------\n",
        "\n",
        "# Seleccionar las características relevantes para el clustering\n",
        "features = data[['Asesinatos', 'Asaltos', 'Poblacion Urbana', 'Violaciones']]\n",
        "\n",
        "# Normalizar los datos para que tengan media cero y desviación estándar uno\n",
        "scaler = StandardScaler()\n",
        "features_scaled = scaler.fit_transform(features)\n"
      ],
      "metadata": {
        "id": "SfKD4yZ7K8s1"
      },
      "execution_count": null,
      "outputs": []
    },
    {
      "cell_type": "markdown",
      "source": [
        "3.1.- Grafica de distribución Antes de Normalizar y Después de Normalizar:\n",
        "\n",
        "✔ Aqui lo que queremos mostrar es como influye la normalización de los datos en el comportamiento de la dispersión."
      ],
      "metadata": {
        "id": "lZ3klzn36TA3"
      }
    },
    {
      "cell_type": "code",
      "source": [
        "# Visualizacion de Distribucion Antes de Normalizar\n",
        "# Codigo copiado de proceso anterior punto 2.2 Distribución de Variables\n",
        "# Visualización de la distribución de variables en un único gráfico\n",
        "fig, axes = plt.subplots(nrows=1, ncols=4, figsize=(18, 6))\n",
        "\n",
        "sns.histplot(data['Asesinatos'], bins=20, kde=True, color='blue', ax=axes[0])\n",
        "axes[0].set_title('Asesinatos por Estado')\n",
        "\n",
        "sns.histplot(data['Asaltos'], bins=20, kde=True, color='orange', ax=axes[1])\n",
        "axes[1].set_title('Asaltos por Estado')\n",
        "\n",
        "sns.histplot(data['Poblacion Urbana'], bins=20, kde=True, color='green', ax=axes[2])\n",
        "axes[2].set_title('Población Urbana por Estado')\n",
        "\n",
        "sns.histplot(data['Violaciones'], bins=20, kde=True, color='red', ax=axes[3])\n",
        "axes[3].set_title('Violaciones por Estado')\n",
        "\n",
        "plt.tight_layout()\n",
        "plt.show()\n",
        "\n",
        "##############################################################################\n",
        "\n",
        "# Visualizar las distribuciones de las características despues de normalizar\n",
        "print()\n",
        "print(\"Graficos Despues de Normalizar\")\n",
        "print('==============================')\n",
        "\n",
        "colores=['blue', 'orange','green','red']\n",
        "# Configuracion del tamaño total del gráfico\n",
        "plt.figure(figsize=(18, 6 * features_scaled.shape[1]//3))\n",
        "j=0 # variable de indice de colores\n",
        "\n",
        "# Itera sobre las columnas normalizadas y crea subgráficos\n",
        "for i in range(features_scaled.shape[1]):\n",
        "  plt.subplot(features_scaled.shape[1]//4 + 1, 4, i + 1)\n",
        "  sns.histplot(features_scaled[:, i], kde=True, bins=20, color=colores[j])\n",
        "  j=j+1\n",
        "  plt.title(f'Distribución de Feature {i} normalizada')\n",
        "\n",
        "# Ajusta el diseño para evitar superposición\n",
        "plt.tight_layout()\n",
        "\n",
        "# Muestra el gráfico\n",
        "plt.show()\n",
        "\n"
      ],
      "metadata": {
        "id": "7IGF6B-N6TN8"
      },
      "execution_count": null,
      "outputs": []
    },
    {
      "cell_type": "markdown",
      "source": [
        "4.- Grafica del Codo:\n",
        "---------------------\n",
        "\n",
        "✔ Este procedimiento nos ayuda, mediante una gráfica, a obtener el mejor K, para utilizar en el método KMeans. Consiste en buscar donde la curva se dobla o presenta un quiebre, donde por mas que los valores sigan aumentando esta no modifica en forma significativa su trayectoria.\n",
        "\n",
        "✔ Para realizar esto nos ayudamos de la bibloteca yellowbrick.cluster, donde con el metodo KElbowVisualizer nos marca ese punto y nos indica su score().\n",
        "\n",
        "✔ Observaremos como el código nos indica que el K mas optimo a utilizar es el K=4."
      ],
      "metadata": {
        "id": "JXAHldHpn3Zg"
      }
    },
    {
      "cell_type": "code",
      "source": [
        "from sklearn.cluster import KMeans\n",
        "from yellowbrick.cluster import KElbowVisualizer\n",
        "\n",
        "# Seleccionar el rango de clusters a probar\n",
        "k_range = range(1, 11)\n",
        "\n",
        "# Inicializar el modelo KMeans\n",
        "kmeans = KMeans(random_state=42, n_init=10)\n",
        "\n",
        "# Utilizar la visualización de codo para encontrar el número óptimo de clusters\n",
        "visualizer = KElbowVisualizer(kmeans, k=k_range, metric='distortion', timings=False)\n",
        "\n",
        "# Ajustar los datos normalizados (features_train_scaled)\n",
        "visualizer.fit(features_scaled)\n",
        "\n",
        "# Visualizar el gráfico de codo\n",
        "visualizer.show()\n"
      ],
      "metadata": {
        "colab": {
          "base_uri": "https://localhost:8080/",
          "height": 541
        },
        "id": "8hfaZ-TSn3yB",
        "outputId": "b0f05393-d3ec-475f-a923-81c478cfd205"
      },
      "execution_count": null,
      "outputs": [
        {
          "output_type": "display_data",
          "data": {
            "text/plain": [
              "<Figure size 800x550 with 1 Axes>"
            ],
            "image/png": "[encoded data removed]"
          },
          "metadata": {}
        },
        {
          "output_type": "execute_result",
          "data": {
            "text/plain": [
              "<Axes: title={'center': 'Distortion Score Elbow for KMeans Clustering'}, xlabel='k', ylabel='distortion score'>"
            ]
          },
          "metadata": {},
          "execution_count": 15
        }
      ]
    },
    {
      "cell_type": "markdown",
      "source": [
        "5.- Metrica Silhouette:\n",
        "-------------------------\n",
        "\n",
        "✔ La siguiente figura, nos muestra la puntuación obtenida por cada cluster.Se evaluaron un rango de K de 2 a 11 y lo valores mas altos los obtienen los clusters 2 y 4."
      ],
      "metadata": {
        "id": "w_a2vS_Jt7nm"
      }
    },
    {
      "cell_type": "code",
      "source": [
        "from sklearn.metrics import silhouette_score\n",
        "\n",
        "# Defino rango de K_range\n",
        "k_range = range(2, 11)\n",
        "\n",
        "# Lista para almacenar las puntuaciones de silhouette\n",
        "silhouette_scores = []\n",
        "\n",
        "for k in k_range:\n",
        "    kmeans = KMeans(n_clusters=k, random_state=42, n_init=10)\n",
        "    kmeans.fit(features_scaled)\n",
        "    labels = kmeans.labels_\n",
        "\n",
        "    # Verificar que haya al menos dos clusters antes de calcular la puntuación de Silhouette\n",
        "    if len(set(labels)) > 1:\n",
        "      score = silhouette_score(features_scaled, labels)\n",
        "      silhouette_scores.append(score)\n",
        "\n",
        "# Visualizar las puntuaciones de Silhouette\n",
        "plt.figure(figsize=(8, 4))\n",
        "plt.plot(k_range, silhouette_scores, marker='o')\n",
        "plt.title('Puntuaciones de Silhouette para Diferentes Números de Clusters')\n",
        "plt.xlabel('Número de Clusters')\n",
        "plt.ylabel('Puntuación de Silhouette')\n",
        "plt.show()"
      ],
      "metadata": {
        "colab": {
          "base_uri": "https://localhost:8080/",
          "height": 408
        },
        "id": "L-ZNPDtNt-lj",
        "outputId": "b54f6e36-5acf-4d57-ddc8-0fa59d27a6b8"
      },
      "execution_count": null,
      "outputs": [
        {
          "output_type": "display_data",
          "data": {
            "text/plain": [
              "<Figure size 800x400 with 1 Axes>"
            ],
            "image/png": "[encoded data removed]"
          },
          "metadata": {}
        }
      ]
    },
    {
      "cell_type": "markdown",
      "source": [
        "6.- Metodos a Implementar KMeans - DBScan y Mean Shift:\n",
        "-------------------------------------------------------"
      ],
      "metadata": {
        "id": "Gxj0I7aZemw2"
      }
    },
    {
      "cell_type": "markdown",
      "source": [
        "6.1.- Metodo KMeans:\n",
        "--------------------\n",
        "\n",
        "✔ Con este código ajustamos el modelo K-means para diferentes valores de k y muestra la puntuación de Silhouette correspondiente.\n",
        "\n",
        "✔ De esta forma puedemos elegir el número de clusters que tenga la mejor puntuación de Silhouette."
      ],
      "metadata": {
        "id": "HfAMbmE8zfWh"
      }
    },
    {
      "cell_type": "code",
      "source": [
        "# Ajustar modelo K-means\n",
        "best_kmeans_score = -1\n",
        "best_kmeans_cluster = None\n",
        "\n",
        "\n",
        "# Vamos a probar diferentes valores de k\n",
        "for k in range(2, 11):\n",
        "    kmeans = KMeans(n_clusters=k, random_state=42, n_init=10)\n",
        "    kmeans_labels = kmeans.fit_predict(features_scaled)\n",
        "    kmeans_score = silhouette_score(features_scaled, kmeans_labels)\n",
        "    labels = kmeans.predict(features_scaled)\n",
        "\n",
        "    if kmeans_score > best_kmeans_score:\n",
        "      best_kmeans_score = kmeans_score\n",
        "      best_kmeans_cluster = kmeans_labels\n",
        "\n",
        "\n",
        "    # Calcular y mostrar la puntuación de Silhouette\n",
        "    silhouette_avg = silhouette_score(features_scaled, labels)\n",
        "    print(f'Número de Clusters: {k}, Puntuación de Silhouette: {silhouette_avg}')"
      ],
      "metadata": {
        "colab": {
          "base_uri": "https://localhost:8080/"
        },
        "id": "9oycaDiGem8_",
        "outputId": "1705c3a8-7f70-494d-ad8f-7b0394887455"
      },
      "execution_count": null,
      "outputs": [
        {
          "output_type": "stream",
          "name": "stdout",
          "text": [
            "Número de Clusters: 2, Puntuación de Silhouette: 0.4084890326217641\n",
            "Número de Clusters: 3, Puntuación de Silhouette: 0.30813622648945616\n",
            "Número de Clusters: 4, Puntuación de Silhouette: 0.33968891433344395\n",
            "Número de Clusters: 5, Puntuación de Silhouette: 0.2892698909578641\n",
            "Número de Clusters: 6, Puntuación de Silhouette: 0.3005771754063692\n",
            "Número de Clusters: 7, Puntuación de Silhouette: 0.2761342454285954\n",
            "Número de Clusters: 8, Puntuación de Silhouette: 0.24606152983626525\n",
            "Número de Clusters: 9, Puntuación de Silhouette: 0.2359060232768202\n",
            "Número de Clusters: 10, Puntuación de Silhouette: 0.2636703762849359\n"
          ]
        }
      ]
    },
    {
      "cell_type": "markdown",
      "source": [
        "6.2.- Metodo DBScan:\n",
        "--------------------\n",
        "\n",
        "✔ Con este código se realiza el entrenamiento del modelo DBScan, con los únicos parámetros que logramos conseguir que nos de \"Al Menos\" dos cluster fuen con eps=2 y min_sample=5 y con eps=1 y min_saple=10.\n",
        "\n",
        "✔ La mejor puntuación de Silhouette entre las dos opciones que nos brindaron \"Al menos\" dos cluster fue con eps=2 y min_sample=5."
      ],
      "metadata": {
        "id": "jof6qIt2zvBA"
      }
    },
    {
      "cell_type": "code",
      "source": [
        "# Ajustar modelo DBScan\n",
        "dbscan_model = DBSCAN(eps=1, min_samples=5)\n",
        "dbscan_labels = dbscan_model.fit_predict(features_scaled)\n",
        "\n",
        "# Verificar si DBScan generó al menos dos clusters antes de calcular la puntuación de Silhouette\n",
        "if len(set(dbscan_labels)) > 1:\n",
        "  dbscan_score = silhouette_score(features_scaled, dbscan_labels)\n",
        "else:\n",
        "  dbscan_score = None"
      ],
      "metadata": {
        "id": "cNELxzRsz1Cm"
      },
      "execution_count": null,
      "outputs": []
    },
    {
      "cell_type": "markdown",
      "source": [
        "6.3.- Mean Shift:\n",
        "------------------"
      ],
      "metadata": {
        "id": "l7VaBXgdz85K"
      }
    },
    {
      "cell_type": "code",
      "source": [
        "# Ajustar modelo Mean Shift\n",
        "meanshift_model = MeanShift()\n",
        "meanshift_labels = meanshift_model.fit_predict(features_scaled)\n",
        "\n",
        "# Verificar si MeanShift generó al menos dos clusters antes de calcular la puntuación de Silhouette\n",
        "if len(set(meanshift_labels)) > 1:\n",
        "  meanshift_score = silhouette_score(features_scaled, meanshift_labels)\n",
        "else:\n",
        "  meanshift_score = None"
      ],
      "metadata": {
        "id": "x5pMLQRkz9HP"
      },
      "execution_count": null,
      "outputs": []
    },
    {
      "cell_type": "markdown",
      "source": [
        "7.- Graficos de los resultados de los modelos:\n",
        "-----------------------------------------------\n",
        "\n",
        "✔ Se realizan los gráficos de los modelos en un solo grafico así es mas fácil la comparación.\n",
        "\n",
        "✔ Aqui observamos que si bien la curva del codo nos dia que el \"K\" optimo era el K=4, el gráfico de Puntuación de Silhouette toma como la mejor clasificación dos cluster o grupos K=2.\n",
        "\n",
        "✔ También podemos observar el método con mejor puntuacion de Silhouette, es el KMeans con una puntuación de 0.41.\n",
        "\n",
        "✔ El segundo es el Mean Shift que obtuvo una puntuación de Silhouette de 0.25.\n",
        "\n",
        "✔ El último y peor de todos con una muy baja puntuación, (Siendo la mejor que obtuvimos con los parametros de eps:1 y min_samples=5) de 0.17."
      ],
      "metadata": {
        "id": "fTTLRqa-0MhH"
      }
    },
    {
      "cell_type": "code",
      "source": [
        "# Visualizar los resultados\n",
        "plt.figure(figsize=(15, 5))\n",
        "\n",
        "# K-means\n",
        "plt.subplot(1, 3, 1)\n",
        "plt.scatter(features_scaled[:, 0], features_scaled[:, 1], c=best_kmeans_cluster, cmap='viridis', s=50)\n",
        "plt.title(f'K-means Clustering\\nSilhouette Score: {best_kmeans_score:.2f}')\n",
        "plt.xlabel('Feature 1')\n",
        "plt.ylabel('Feature 2')\n",
        "\n",
        "# DBScan\n",
        "plt.subplot(1, 3, 2)\n",
        "plt.scatter(features_scaled[:, 0], features_scaled[:, 1], c=dbscan_labels, cmap='viridis', s=50)\n",
        "\n",
        "# Verificar si DBScan generó al menos dos clusters antes de calcular la puntuación de Silhouette\n",
        "if dbscan_score is not None:\n",
        "    plt.title(f'DBScan Clustering\\nSilhouette Score: {dbscan_score:.2f}')\n",
        "else:\n",
        "    plt.title(f'DBScan Clustering\\nSilhouette Score: N/A')\n",
        "plt.xlabel('Feature 1')\n",
        "plt.ylabel('Feature 2')\n",
        "\n",
        "# Mean Shift\n",
        "plt.subplot(1, 3, 3)\n",
        "plt.scatter(features_scaled[:, 0], features_scaled[:, 1], c=meanshift_labels, cmap='viridis', s=50)\n",
        "\n",
        "# Verificar si MeanShift generó al menos dos clusters antes de calcular la puntuación de Silhouette\n",
        "if meanshift_score is not None:\n",
        "    plt.title(f'Mean Shift Clustering\\nSilhouette Score: {meanshift_score:.2f}')\n",
        "else:\n",
        "    plt.title(f'Mean Shift Clustering\\nSilhouette Score: N/A')\n",
        "plt.xlabel('Feature 1')\n",
        "plt.ylabel('Feature 2')\n",
        "\n",
        "plt.tight_layout()\n",
        "plt.show()"
      ],
      "metadata": {
        "id": "MJii2nil0MtA"
      },
      "execution_count": null,
      "outputs": []
    },
    {
      "cell_type": "markdown",
      "source": [
        "8.- ANALISIS FINAL:\n",
        "-------------------"
      ],
      "metadata": {
        "id": "s9FFLsXJ0M6W"
      }
    },
    {
      "cell_type": "markdown",
      "source": [
        "8.1.- KMeans con K= 4:\n",
        "----------------------\n",
        "\n",
        "✔ Habiendo elaborado tres métodos y viendo sus desempeños, optamos por el que mejor puntuación obtuvo que fue el KMeans.\n",
        "\n",
        "✔ Como el estudio del codo nos dio que el K más optimo es el K=4, (También se converso en clase sobre el tema), y pese a que según la Puntuación de Silhouette deberíamos usar K=2, El ralizaremos el análisis se va a realizar con un K=4.\n"
      ],
      "metadata": {
        "id": "wdEU7I6VFjM9"
      }
    },
    {
      "cell_type": "code",
      "source": [
        "# Elegir el número óptimo de clústeres\n",
        "k_optimo = 4\n",
        "\n",
        "# Inicializar y entrenar el modelo KMeans\n",
        "kmeans_model = KMeans(n_clusters=k_optimo, random_state=42, n_init=5)\n",
        "data['Cluster'] = kmeans_model.fit_predict(features_scaled)\n",
        "\n",
        "\n",
        "# #data_Cluster= data.copy()\n",
        "# kmeans_model = KMeans(n_clusters=k_optimo, random_state=42, n_init=5)\n",
        "# data['Cluster'] = kmeans_model.fit_predict(features_scaled)\n",
        "\n",
        "# #     kmeans.fit(features_scaled)\n",
        "# #   labels = kmeans.predict(features_scaled)"
      ],
      "metadata": {
        "id": "pfWBs53O0NHD"
      },
      "execution_count": null,
      "outputs": []
    },
    {
      "cell_type": "markdown",
      "source": [
        "\n",
        "8.2.- Visualizacion de Metricas de Clusters:\n",
        "---------------------------------------------\n",
        "\n",
        "✔ Análisis de las métricas de cada uno de los clusters.\n",
        "\n",
        "✔ Observamos el promedio y desvio standard de cada categoría y por cluster."
      ],
      "metadata": {
        "id": "GtK2WYHOHcGJ"
      }
    },
    {
      "cell_type": "code",
      "source": [
        "# Visualizar los resultados\n",
        "for cluster in range(k_optimo):\n",
        "  # print(f\"Cluster {cluster + 1}:\")\n",
        "  print(f\"Cluster {cluster}:\")\n",
        "  print(data[data['Cluster'] == cluster].describe().loc[['mean', 'std']])\n",
        "  print(\"\\n\")\n"
      ],
      "metadata": {
        "id": "hH-6gDalHfBe",
        "colab": {
          "base_uri": "https://localhost:8080/"
        },
        "outputId": "eb707353-3fba-4423-8b31-b940fa69760e"
      },
      "execution_count": null,
      "outputs": [
        {
          "output_type": "stream",
          "name": "stdout",
          "text": [
            "Cluster 0:\n",
            "      Asesinatos     Asaltos  Poblacion Urbana  Violaciones  Cluster\n",
            "mean    5.656250  138.875000         73.875000    18.781250      0.0\n",
            "std     1.647207   41.175842          8.935883     5.236439      0.0\n",
            "\n",
            "\n",
            "Cluster 1:\n",
            "      Asesinatos   Asaltos  Poblacion Urbana  Violaciones  Cluster\n",
            "mean   13.937500  243.6250         53.750000    21.412500      1.0\n",
            "std     2.601614   49.7535          8.048957     3.811425      0.0\n",
            "\n",
            "\n",
            "Cluster 2:\n",
            "      Asesinatos     Asaltos  Poblacion Urbana  Violaciones  Cluster\n",
            "mean   10.815385  257.384615          76.00000    33.192308      2.0\n",
            "std     2.083605   43.559420          10.77033     7.282337      0.0\n",
            "\n",
            "\n",
            "Cluster 3:\n",
            "      Asesinatos    Asaltos  Poblacion Urbana  Violaciones  Cluster\n",
            "mean    3.600000  78.538462         52.076923    12.176923      3.0\n",
            "std     2.362555  25.708674         10.086803     3.258618      0.0\n",
            "\n",
            "\n"
          ]
        }
      ]
    },
    {
      "cell_type": "markdown",
      "source": [
        "✔ Visualización grafica de los clusters"
      ],
      "metadata": {
        "id": "27MKQWNaZn_k"
      }
    },
    {
      "cell_type": "code",
      "source": [
        "# # Graficar los clústeres en función de las características\n",
        "# import seaborn as sns\n",
        "# sns.pairplot(data, hue='Cluster')\n",
        "# plt.show()\n",
        "\n",
        "# Define el diccionario de colores para cada clúster\n",
        "cluster_colors = {0: 'yellow', 1: 'red', 2: 'orange', 3: 'green'}\n",
        "\n",
        "# Mapea los colores a los datos en función del clúster\n",
        "data['Cluster_Color'] = data['Cluster'].map(cluster_colors)\n",
        "\n",
        "# Graficar los clústeres en función de las características\n",
        "sns.pairplot(data, hue='Cluster_Color', palette=cluster_colors.values())\n",
        "plt.show()"
      ],
      "metadata": {
        "id": "SAKG-2lbZoRq"
      },
      "execution_count": null,
      "outputs": []
    },
    {
      "cell_type": "markdown",
      "source": [
        "8.3.- Interpretación de cada Cluster:\n",
        "--------------------------------------\n",
        "\n",
        "✅ Aqui tenemos que aclarar el criterio que se toma para la asignación del grado de peligrosidad que se le da a cada Cluster obtenido:\n",
        "\n",
        "✔ Teniendo en cuenta, los escasos conocimientos en temas jurídicos, que los tiempos de entrega no dan para realizar una investigación mas profunda sobre seguridad y leyes o para consultar a algún letrado sobre la magnitud de los pesos de cada delito y como si fuera poco se agrega la dificultad de que cada pais se rige por sus propias leyes en estos temas, es posible que exita un error en el criterio aplicado para la argumentación del proceso.\n",
        "\n",
        "Aclarado esto se pasa a detallar el criterio empleado:\n",
        "\n",
        "✔ Se parte de la premisa que el mayor peso de los delitos los tiene el Asesinato, por la gravedad que reviste, la quita de una vida.\n",
        "\n",
        "✔ En segundo lugar se da mas prevalescencia a las Violaciones.\n",
        "\n",
        "✔ En el tercero se consideran los Asaltos.\n",
        "\n",
        "✔ También se contempla la cantidad de la Población.\n",
        "\n",
        "\n",
        "Habiendo aclarado estos items y observando los resultados de cada cluster del punto 8.2- Analisis de Metricas:\n",
        "\n",
        "\n",
        "En la gáfica de Boxplot vemos claramente que el cluster 3: es el de mas BAJA peligrosidad, luego en una Peligrosidad que llamaremos MEDIA-BAJA tenemos al cluster 0. Aquí en adelante es donde tenemos que hacer uso de nuestro criterio, descripto anteriormente, ya que los cluster 1 y 2 estan un poco mezclado en cuanto a los delitos, ya que el cluestr 1 es mas alto en Asesinatos y el 2 tiene mayor cantidad de Violaciones y en Asaltos tienen medianas bastante cercanas con poca diferencia.\n",
        "\n",
        "Como dimos mas peso a los Asesinatos, y el cluster 1 tiene la mayor cantidad de estos, y además posee menor población se lo considerará mas peligroso que el cluster 2, ya que pobabilisticamente un habitante de este tiene mas factibilidad de ser victima de uno de estos delitos que un habitante del cluster 2.\n",
        "\n",
        "✔ RESUMIENDO:\n",
        "\n",
        "✍ Cluster 0 -- Baja Peligrosidad\n",
        "\n",
        "✍ Cluster 3 -- Media-Baja Peligrosidad\n",
        "\n",
        "✍ Cluster 2 -- Media-Alta Peligrosidad\n",
        "\n",
        "✍ Cluster 1 -- Alta Peligrosidad"
      ],
      "metadata": {
        "id": "wysSprDNVjMP"
      }
    },
    {
      "cell_type": "code",
      "source": [
        "import seaborn as sns\n",
        "\n",
        "# Configurar el estilo de los gráficos\n",
        "sns.set(style=\"whitegrid\")\n",
        "\n",
        "# Crea boxplots para cada variable en cada cluster\n",
        "plt.figure(figsize=(15, 8))\n",
        "\n",
        "for i, column in enumerate(features.columns, 1):\n",
        "#for i, column in enumerate(data.columns, 1):\n",
        "    plt.subplot(2, 4, i)\n",
        "    sns.boxplot(x='Cluster', y=column, data=data)\n",
        "    plt.title(f'Boxplot de {column} por Cluster')\n",
        "\n",
        "plt.tight_layout()\n",
        "plt.show()"
      ],
      "metadata": {
        "id": "Jw0EV4okVjWC"
      },
      "execution_count": null,
      "outputs": []
    },
    {
      "cell_type": "markdown",
      "source": [
        "8.4.- Asignacion de Etiquetas de peligrosidad a cada Cluster:\n",
        "-------------------------------------------------------------\n",
        "\n",
        "✔ Se asigna a cada cluster la etiqute de peligrosidad correspondiente, de acuerdo a nuestro análisis."
      ],
      "metadata": {
        "id": "dKu0-oHfDyBv"
      }
    },
    {
      "cell_type": "code",
      "source": [
        "# Definir umbrales para cada categoría\n",
        "umbrales = {\n",
        "    'Baja': 3,\n",
        "    'Media-Baja': 0,\n",
        "    'Media-Alta': 2,\n",
        "    'Alta': 1\n",
        "}\n",
        "\n",
        "# Función para asignar categorías\n",
        "def asignar_categoria(cluster_normalizado):\n",
        "    if cluster_normalizado == 3:\n",
        "        return 'Baja'\n",
        "    elif cluster_normalizado == 0:\n",
        "        return 'Media-Baja'\n",
        "    elif cluster_normalizado == 2:\n",
        "        return 'Media-Alta'\n",
        "    elif cluster_normalizado == 1:\n",
        "        return 'Alta'\n",
        "    else:\n",
        "      return ''\n",
        "\n",
        "# Aplicar la función para asignar categorías\n",
        "data['Categoria de Peligrosidad'] = data['Cluster'].apply(asignar_categoria)\n",
        "\n",
        "# Visualizar los resultados\n",
        "print(data[['Estado', 'Categoria de Peligrosidad','Cluster']])"
      ],
      "metadata": {
        "colab": {
          "base_uri": "https://localhost:8080/"
        },
        "id": "1UfA_e69DyaV",
        "outputId": "4fd09edb-b8d8-43d8-df8b-e29d2ace5fea"
      },
      "execution_count": null,
      "outputs": [
        {
          "output_type": "stream",
          "name": "stdout",
          "text": [
            "            Estado Categoria de Peligrosidad  Cluster\n",
            "0          Alabama                      Alta        1\n",
            "1           Alaska                Media-Alta        2\n",
            "2          Arizona                Media-Alta        2\n",
            "3         Arkansas                      Alta        1\n",
            "4       California                Media-Alta        2\n",
            "5         Colorado                Media-Alta        2\n",
            "6      Connecticut                Media-Baja        0\n",
            "7         Delaware                Media-Baja        0\n",
            "8          Florida                Media-Alta        2\n",
            "9          Georgia                      Alta        1\n",
            "10          Hawaii                Media-Baja        0\n",
            "11           Idaho                      Baja        3\n",
            "12        Illinois                Media-Alta        2\n",
            "13         Indiana                Media-Baja        0\n",
            "14            Iowa                      Baja        3\n",
            "15          Kansas                Media-Baja        0\n",
            "16        Kentucky                      Baja        3\n",
            "17       Louisiana                      Alta        1\n",
            "18           Maine                      Baja        3\n",
            "19        Maryland                Media-Alta        2\n",
            "20   Massachusetts                Media-Baja        0\n",
            "21        Michigan                Media-Alta        2\n",
            "22       Minnesota                      Baja        3\n",
            "23     Mississippi                      Alta        1\n",
            "24        Missouri                Media-Alta        2\n",
            "25         Montana                      Baja        3\n",
            "26        Nebraska                      Baja        3\n",
            "27          Nevada                Media-Alta        2\n",
            "28   New Hampshire                      Baja        3\n",
            "29      New Jersey                Media-Baja        0\n",
            "30      New Mexico                Media-Alta        2\n",
            "31        New York                Media-Alta        2\n",
            "32  North Carolina                      Alta        1\n",
            "33    North Dakota                      Baja        3\n",
            "34            Ohio                Media-Baja        0\n",
            "35        Oklahoma                Media-Baja        0\n",
            "36          Oregon                Media-Baja        0\n",
            "37    Pennsylvania                Media-Baja        0\n",
            "38    Rhode Island                Media-Baja        0\n",
            "39  South Carolina                      Alta        1\n",
            "40    South Dakota                      Baja        3\n",
            "41       Tennessee                      Alta        1\n",
            "42           Texas                Media-Alta        2\n",
            "43            Utah                Media-Baja        0\n",
            "44         Vermont                      Baja        3\n",
            "45        Virginia                Media-Baja        0\n",
            "46      Washington                Media-Baja        0\n",
            "47   West Virginia                      Baja        3\n",
            "48       Wisconsin                      Baja        3\n",
            "49         Wyoming                Media-Baja        0\n"
          ]
        }
      ]
    },
    {
      "cell_type": "markdown",
      "source": [
        "8.5.- Grafica de barras de Estados y Peligrosidad:\n",
        "------------------------------------------------------\n",
        "\n",
        "✔ Se reprentan los Cluster 0 , 1 , 2 , 3 y su estado de peligrosidad. El cluster 0, no alcanza a ser visble ya que esta variable es la que se representa en el eje y y al ser 0 no se aprecia.\n",
        "\n",
        "✔ Se creo un dataset data_mostrar_bar y a los clusters se les suma uno asi se puede apreciar las barras en el grafico.  "
      ],
      "metadata": {
        "id": "Po39ODeDI9CO"
      }
    },
    {
      "cell_type": "code",
      "source": [
        "import plotly.express as px\n",
        "\n",
        "# Crea un diccionario de colores para las categorías\n",
        "colores_categorias = {'Baja': 'green', 'Media-Baja': 'yellow', 'Media-Alta': 'orange', 'Alta': 'red'}\n",
        "\n",
        "eje_y_cluster = data\n",
        "# Actualiza el gráfico de barras\n",
        "\n",
        "# Codigo original pero que las barras del cluster 0 no se aprecian por no tener alto ya que el eje Y es cero.\n",
        "# figBarEstado = px.bar(data, x=\"Estado\", y=\"Cluster\", color=\"Categoria de Peligrosidad\", text=\"Categoria de Peligrosidad\",\n",
        "#                      color_discrete_map=colores_categorias, barmode=\"group\")\n",
        "# creado solo para este punto\n",
        "data_mostrar_bar = data.copy()\n",
        "data_mostrar_bar['Cluster_Mas_1'] = data['Cluster']+1\n",
        "\n",
        "figBarEstado = px.bar(data_mostrar_bar, x=\"Estado\", y='Cluster_Mas_1' , color=\"Categoria de Peligrosidad\", text=\"Categoria de Peligrosidad\",\n",
        "                      color_discrete_map=colores_categorias, barmode=\"group\")\n",
        "\n",
        "\n",
        "figBarEstado.update_layout(\n",
        "    title=\"Peligrosidad por estado\",\n",
        "    title_x=0.5,\n",
        "    xaxis=dict(title=\"Estados\"),\n",
        "    yaxis=dict(title=\"Cluster\", side=\"left\"))\n",
        "\n",
        "# Muestra los gráficos\n",
        "figBarEstado.show()"
      ],
      "metadata": {
        "id": "GdEUqrvhI9O4"
      },
      "execution_count": null,
      "outputs": []
    },
    {
      "cell_type": "markdown",
      "source": [
        "✔ Obtención de la cantidad de estados de cada Cluster"
      ],
      "metadata": {
        "id": "GF9Wb2PMNVKE"
      }
    },
    {
      "cell_type": "code",
      "source": [
        "# Obtener el recuento de estados en cada cluster\n",
        "cluster_counts = data['Categoria de Peligrosidad'].value_counts()\n",
        "\n",
        "# Mostrar el recuento de estados en cada cluster\n",
        "print(\"Recuento de estados en cada cluster:\")\n",
        "print(cluster_counts)"
      ],
      "metadata": {
        "colab": {
          "base_uri": "https://localhost:8080/"
        },
        "id": "we0F2orzNVYo",
        "outputId": "f68d4312-5e70-42d0-b6cf-72abcc6d541c"
      },
      "execution_count": null,
      "outputs": [
        {
          "output_type": "stream",
          "name": "stdout",
          "text": [
            "Recuento de estados en cada cluster:\n",
            "Media-Baja    16\n",
            "Media-Alta    13\n",
            "Baja          13\n",
            "Alta           8\n",
            "Name: Categoria de Peligrosidad, dtype: int64\n"
          ]
        }
      ]
    },
    {
      "cell_type": "markdown",
      "source": [
        "✔ Visualización por grafico de barras de la cantidad de Estados por CLuster"
      ],
      "metadata": {
        "id": "NDxkppWuQ-NX"
      }
    },
    {
      "cell_type": "code",
      "source": [
        "# Visualizar el recuento de estados en cada cluster\n",
        "plt.figure(figsize=(8, 5))\n",
        "sns.countplot(x='Categoria de Peligrosidad', data=data, palette='viridis')\n",
        "plt.title('Recuento de Estados en Cada Cluster')\n",
        "plt.xlabel('Cluster')\n",
        "plt.ylabel('Recuento')\n",
        "plt.show()"
      ],
      "metadata": {
        "id": "kXBuJ1FVQ-an"
      },
      "execution_count": null,
      "outputs": []
    },
    {
      "cell_type": "markdown",
      "source": [
        "9.- Impresión de los Estados que componen cada Cluster:\n",
        "-------------------------------------------------------"
      ],
      "metadata": {
        "id": "oyXw-wTRRfRT"
      }
    },
    {
      "cell_type": "code",
      "source": [
        "# Crear un nuevo DataFrame para almacenar los estados por cluster\n",
        "cluster_df = pd.DataFrame()\n",
        "categorias_df= pd.DataFrame()\n",
        "\n",
        "# Agrupar por el valor del cluster y obtener los estados en cada cluster\n",
        "cluster_groups = data.groupby('Cluster')['Estado'].apply(list)\n",
        "\n",
        "# Para encontrar la longitud máxima de los estados en todos los clusters\n",
        "max_len = max(len(estados) for estados in cluster_groups)\n",
        "\n",
        "# Llenar el DataFrame con los estados por cluster\n",
        "for cluster, estados in cluster_groups.items():\n",
        "  estados += [''] * (max_len - len(estados))\n",
        "  cluster_df[f'Cluster {cluster}'] = estados\n",
        "\n",
        "# Imprimir el DataFrame\n",
        "print(cluster_df)\n",
        "\n"
      ],
      "metadata": {
        "colab": {
          "base_uri": "https://localhost:8080/"
        },
        "id": "v2i08np6RfgM",
        "outputId": "533852bb-f3d1-4174-bc76-38ea613106d3"
      },
      "execution_count": null,
      "outputs": [
        {
          "output_type": "stream",
          "name": "stdout",
          "text": [
            "        Cluster 0       Cluster 1   Cluster 2      Cluster 3\n",
            "0     Connecticut         Alabama      Alaska          Idaho\n",
            "1        Delaware        Arkansas     Arizona           Iowa\n",
            "2          Hawaii         Georgia  California       Kentucky\n",
            "3         Indiana       Louisiana    Colorado          Maine\n",
            "4          Kansas     Mississippi     Florida      Minnesota\n",
            "5   Massachusetts  North Carolina    Illinois        Montana\n",
            "6      New Jersey  South Carolina    Maryland       Nebraska\n",
            "7            Ohio       Tennessee    Michigan  New Hampshire\n",
            "8        Oklahoma                    Missouri   North Dakota\n",
            "9          Oregon                      Nevada   South Dakota\n",
            "10   Pennsylvania                  New Mexico        Vermont\n",
            "11   Rhode Island                    New York  West Virginia\n",
            "12           Utah                       Texas      Wisconsin\n",
            "13       Virginia                                           \n",
            "14     Washington                                           \n",
            "15        Wyoming                                           \n"
          ]
        }
      ]
    },
    {
      "cell_type": "markdown",
      "source": [
        "10.- Gráfico Interactivo en 3D de Las características:\n",
        "------------------------------------------------------\n",
        "\n",
        "✔ Utilizamos el modulo \"go.Scatter3d\" de la librería \"plotly.graph_objects\" para cada clúster y asignamos el color correspondiente del diccionario cluster_colors, según nuestra asociación de Clustre-Peligrosidad. Se ajusta tamaño del marcador, opacidad y el símbolo.\n",
        "\n",
        "✔ Con el objetivo de intentar apreciar mejor la distribución de los cluster, se realiza un gráfico en 3d Interactivo, que se puede girar de a cuerdo a que grupo queremos obsrvar. Al tener profundidad apreciamos mejor la agrupación de los cluster.\n",
        "\n",
        "✔ Se representaron Asesinatos, Asaltos y Violaciones. no así la Población ya que nos excedemos en las dimensiones."
      ],
      "metadata": {
        "id": "DbkB22Fywlcm"
      }
    },
    {
      "cell_type": "code",
      "source": [
        "import plotly.graph_objects as go\n",
        "\n",
        "# Define el diccionario de colores para cada clúster\n",
        "cluster_colors = {0: 'yellow', 1: 'red', 2: 'orange', 3: 'green'}\n",
        "\n",
        "# Agrega una columna para el color de cada punto en función del clúster\n",
        "data['Cluster_Color'] = data['Cluster'].map(cluster_colors)\n",
        "\n",
        "# Visualización 3D con Plotly\n",
        "fig = go.Figure()\n",
        "\n",
        "for cluster in data['Cluster'].unique():\n",
        "    cluster_data = data[data['Cluster'] == cluster]\n",
        "    fig.add_trace(go.Scatter3d(\n",
        "        x=cluster_data['Asesinatos'],\n",
        "        y=cluster_data['Asaltos'],\n",
        "        z=cluster_data['Violaciones'],\n",
        "        mode='markers',\n",
        "        marker=dict(\n",
        "            size=8,\n",
        "            opacity=0.7,\n",
        "            color=cluster_colors[cluster],\n",
        "            symbol='circle',\n",
        "            line=dict(width=0)\n",
        "        ),\n",
        "        name=f'Cluster {cluster}'\n",
        "    ))\n",
        "\n",
        "# Configuración del diseño del gráfico\n",
        "fig.update_layout(\n",
        "    scene=dict(\n",
        "        xaxis_title='Asesinatos',\n",
        "        yaxis_title='Asaltos',\n",
        "        zaxis_title='Violaciones'\n",
        "    ),\n",
        "    width=800,\n",
        "    height=600,\n",
        "    title='Visualización 3D de Clústeres (KMeans)'\n",
        ")\n",
        "\n",
        "# Mostrar la visualización interactiva\n",
        "fig.show()"
      ],
      "metadata": {
        "id": "LVH2XBcawlne"
      },
      "execution_count": null,
      "outputs": []
    },
    {
      "cell_type": "markdown",
      "source": [
        "11.- Mapa por Estados y su Peligrosidad:\n",
        "-----------------------------------------\n",
        "\n",
        "✔ Para una mejor interpretación de los datos se realiza este mapa de EEUU con sus estados coloreados de acuerdo a su peligrosidad."
      ],
      "metadata": {
        "id": "y_XV0Gr6Lc82"
      }
    },
    {
      "cell_type": "code",
      "source": [
        "# Actualiza el mapa de calor\n",
        "figMapEstado = px.choropleth(data, locations='Abreviado', locationmode='USA-states', scope='usa',\n",
        "                              color='Categoria de Peligrosidad', color_discrete_map=colores_categorias)\n",
        "\n",
        "figMapEstado.update_layout(\n",
        "    title='Mapa de los estados según grado de peligrosidad',\n",
        "    title_x=0.5)\n",
        "\n",
        "# Muestra los gráficos\n",
        "figMapEstado.show()"
      ],
      "metadata": {
        "id": "3bhAmUmfLdJz"
      },
      "execution_count": null,
      "outputs": []
    },
    {
      "cell_type": "markdown",
      "source": [
        "✅ RESUMEN FINAL:\n",
        "===============\n",
        "\n",
        "✔ En Resumen para responder el enunciado podemos destacar que:\n",
        "\n",
        "✍ La parte Sureste de EEUU es la mas peligrosa, sumandose a este grupo al estado de  Arkansas.\n",
        "\n",
        "✍ Podríamos decir que el Sur de EEUU tiene los estados mas peligroso, ya que esta dominado por estados catalogados como Alta peligrosidad o Media-Alta peligrosidad.\n",
        "\n",
        "✍ En general la parte Norte es la parte menos peligrosa o mas segura, y algunos estados del este, como Maine, New Hampshire o Vermont.\n",
        "\n",
        "✍ Los estado de Media-Baja peligrosidad los encontraremos en la parte central y este.\n",
        "\n",
        "✍ Estas clasificaciones tienen mucho sentido, ya que en el Sur tiene una amplia frontera con Mexico. Sabemos que las ciudades Mexicanas lindantes a EEUU estan tomadas y manejadas por los Carteles Narco mas grandes de Mexico, que aprovechando la cercania y la gran extension de frontera realizan el traspaso de droga de infinidad de formas. Esto hace que los delitos en el lado de EEUU aumenten. El comercio de droga traee aparejado los robos, asesinatos y otros tipos de delitos.\n",
        "Por otro lado la parte este que linda con el Atlántico, se convierte en el destino mas buscado por los carteles de Colombia para desembarcar sus cargamentos aprovechando las costas y puertos.\n",
        "\n",
        "✍ El Norte tiende a ser mas tranquilo debido a que limita con Canada y el Océano Artico, zonas mucho mas alejadas y frias para cualquier incursión de esta índole.\n"
      ],
      "metadata": {
        "id": "-8j0HLj--X6n"
      }
    },
    {
      "cell_type": "code",
      "source": [
        "# Crear un nuevo DataFrame para almacenar los estados por cluster\n",
        "categorias_df= pd.DataFrame()\n",
        "\n",
        "# Agrupar por el valor del cluster y obtener los estados en cada cluster\n",
        "categorias_groups = data.groupby('Categoria de Peligrosidad')['Estado'].apply(list)\n",
        "\n",
        "# Para encontrar la longitud máxima de los estados en todos los clusters\n",
        "max_len = max(len(estados) for estados in categorias_groups)\n",
        "\n",
        "\n",
        "# Llenar el DataFrame con los estados por cluster\n",
        "for categ, estados in categorias_groups.items():\n",
        "  estados += [''] * (max_len - len(estados))\n",
        "  categorias_df[f'{categ}'] = estados\n",
        "\n",
        "\n",
        "# Impresion de Resumen de las Categorias de los Estados\n",
        "print(\" R E S U M E N   E S T A D O S   P O R  C A T E G O R I A\")\n",
        "print(\"==============   =============   ====== ==================\")\n",
        "\n",
        "print()\n",
        "print()\n",
        "\n",
        "# Imprimir el DataFrame\n",
        "print(categorias_df)\n"
      ],
      "metadata": {
        "colab": {
          "base_uri": "https://localhost:8080/"
        },
        "id": "IgOd-bqG-YFd",
        "outputId": "7c7b2698-3cde-441a-fee8-a932dd60eecb"
      },
      "execution_count": null,
      "outputs": [
        {
          "output_type": "stream",
          "name": "stdout",
          "text": [
            " R E S U M E N   E S T A D O S   P O R  C A T E G O R I A\n",
            "==============   =============   ====== ==================\n",
            "\n",
            "\n",
            "              Alta           Baja  Media-Alta     Media-Baja\n",
            "0          Alabama          Idaho      Alaska    Connecticut\n",
            "1         Arkansas           Iowa     Arizona       Delaware\n",
            "2          Georgia       Kentucky  California         Hawaii\n",
            "3        Louisiana          Maine    Colorado        Indiana\n",
            "4      Mississippi      Minnesota     Florida         Kansas\n",
            "5   North Carolina        Montana    Illinois  Massachusetts\n",
            "6   South Carolina       Nebraska    Maryland     New Jersey\n",
            "7        Tennessee  New Hampshire    Michigan           Ohio\n",
            "8                    North Dakota    Missouri       Oklahoma\n",
            "9                    South Dakota      Nevada         Oregon\n",
            "10                        Vermont  New Mexico   Pennsylvania\n",
            "11                  West Virginia    New York   Rhode Island\n",
            "12                      Wisconsin       Texas           Utah\n",
            "13                                                  Virginia\n",
            "14                                                Washington\n",
            "15                                                   Wyoming\n"
          ]
        }
      ]
    }
  ]
}